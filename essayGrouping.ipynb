{
 "cells": [
  {
   "cell_type": "code",
   "execution_count": 1,
   "metadata": {},
   "outputs": [],
   "source": [
    "from nltk.tokenize import sent_tokenize, word_tokenize\n",
    "\n"
   ]
  },
  {
   "cell_type": "code",
   "execution_count": 2,
   "metadata": {},
   "outputs": [
    {
     "name": "stdout",
     "output_type": "stream",
     "text": [
      "1766\n"
     ]
    }
   ],
   "source": [
    "import requests\n",
    "\n",
    "link = \"https://www.4icu.org/us/\"\n",
    "f = requests.get(link)\n",
    "# print(f.text)\n",
    "\n",
    "# print(f.text)\n",
    "\n",
    "import re\n",
    "\n",
    "university_list = re.findall(\"<td><a href=\\S+>(\\D+)</a>\", f.text)\n",
    "for x in range(len(university_list)):\n",
    "    curr = university_list[x]\n",
    "    if curr.lower() == \"columbia university in the city of new york\":\n",
    "        university_list[x] = curr[:19] \n",
    "    if \"&amp\" in curr:\n",
    "        university_list[x].replace(\"&amp;\", \" \")\n",
    "        # and_index = curr.index(\"&\")\n",
    "        # university_list[x] = curr[0:and_index] + \" \" + curr[and_index+5:]\n",
    "    if \"The\" in curr:\n",
    "        university_list[x] = curr[3:]\n",
    "    if \",\" in curr:\n",
    "        university_list[x].replace(\",\", \"\")\n",
    "\n",
    "print(len(university_list))\n",
    "\n",
    "top_400 = university_list[0:400]\n",
    "\n",
    "# print(top_200)\n"
   ]
  },
  {
   "cell_type": "code",
   "execution_count": 5,
   "metadata": {},
   "outputs": [
    {
     "name": "stdout",
     "output_type": "stream",
     "text": [
      "1506\n"
     ]
    }
   ],
   "source": [
    "import requests\n",
    "\n",
    "# link = \"https://www.collegevine.com/schools/hub/overall/sheet\"\n",
    "\n",
    "link = \"https://www.collegevine.com/schools/hub/data/static\"\n",
    "\n",
    "# avoid printing f.text; Large file\n",
    "f = requests.get(link)\n",
    "\n",
    "\n",
    "# \"majorsCipCodes\":[\"11.0701\",\"14.0501\",\"14.1001\",\"14.1301\",\"14.1901\",\"16.0102\",\"16.0104\",\"16.0201\",\n",
    "# \"16.0301\",\"16.0302\",\"16.0303\",\"16.04\",\"16.0402\",\"16.0407\",\"16.0408\",\"16.0501\",\"16.0502\",\"16.0506\",\n",
    "# \"16.0599\",\"16.0701\",\"16.09\",\"16.0901\",\"16.0902\",\"16.0904\",\"16.0905\",\"16.1101\",\"16.1102\",\"16.12\",\n",
    "# \"16.1203\",\"16.1299\",\"16.1301\",\"16.1402\",\"16.1501\",\"23.0101\",\"24.0101\",\"24.0103\",\"26.0101\",\"26.0202\",\n",
    "# \"26.0404\",\"26.0406\",\"26.0599\",\"26.1303\",\"26.1503\",\"27.0101\",\"27.0301\",\"27.0501\",\"3.0103\",\"30.1301\",\n",
    "# \"30.1701\",\"30.1801\",\"38.0101\",\"38.0201\",\"39.0601\",\"40.0202\",\"40.0203\",\"40.0299\",\"40.0501\",\"40.0508\",\n",
    "# \"40.0599\",\"40.0601\",\"40.0801\",\"42.0101\",\"42.2701\",\"42.2704\",\"45.0101\",\"45.0201\",\"45.0301\",\"45.0601\",\n",
    "# \"45.0603\",\"45.1001\",\"45.1101\",\"5.0104\",\"5.0105\",\"5.0108\",\"5.011\",\"5.0112\",\"5.0201\",\"5.0207\",\"5.0208\",\n",
    "# \"5.0209\",\"5.0299\",\"50.0101\",\"50.0501\",\"50.0601\",\"50.0702\",\"50.0703\",\"50.0901\",\"51.221\",\"54.0101\",\n",
    "# \"54.0103\",\"54.0104\",\"54.0199\"],\"name\":\"Harvard University\",\"numFreshmen\"\n",
    "\n",
    "# \"majorsCipCodes\":[\"11.0103\",\"11.0201\",\"11.0701\",\"11.0801\",\"11.1099\",\"11.9999\",\"13.1001\",\"13.1203\",\n",
    "# \"13.121\",\"13.1302\",\"13.1303\",\"13.1305\",\"13.1306\",\"13.1307\",\"13.1308\",\"13.1311\",\"13.1312\",\"13.1314\",\n",
    "# \"13.1316\",\"13.1318\",\"13.1322\",\"13.1325\",\"13.133\",\"14.0701\",\"14.0801\",\"14.1001\",\"14.1801\",\"14.1901\",\n",
    "# \"14.3501\",\"15.0201\",\"15.0303\",\"15.0702\",\"15.0805\",\"15.1201\",\"16.0102\",\"16.0901\",\"16.0902\",\"16.0905\",\n",
    "# \"19.0707\",\"23.0101\",\"23.1302\",\"23.1303\",\"23.1304\",\"24.0101\",\"24.0102\",\"26.0101\",\"26.0202\",\"27.0101\",\n",
    "# \"3.0104\",\"30.1101\",\"31.0501\",\"31.0505\",\"38.0101\",\"38.0201\",\"40.0201\",\"40.0501\",\"40.0601\",\"40.0699\",\n",
    "# \"40.0801\",\"42.0101\",\"43.0104\",\"43.0106\",\"44\",\"44.0701\",\"45.0101\",\"45.0201\",\"45.0601\",\"45.0701\",\"45.0799\",\n",
    "# \"45.0901\",\"45.1001\",\"45.1101\",\"5.0101\",\"5.0102\",\"5.0201\",\"50.0399\",\"50.0501\",\"50.0702\",\"50.0703\",\"50.0901\",\n",
    "# \"50.0902\",\"50.0903\",\"50.0904\",\"50.1001\",\"51\",\"51.0001\",\"51.0602\",\"51.0701\",\"51.0702\",\"51.0899\",\"51.0908\",\n",
    "# \"51.1005\",\"51.1504\",\"51.2201\",\"51.3101\",\"51.3801\",\"51.9999\",\"52.0201\",\"52.0205\",\"52.0301\",\"52.0304\",\"52.0601\",\n",
    "# \"52.0801\",\"52.0901\",\"52.1001\",\"52.1002\",\"52.1101\",\"52.1201\",\"52.1206\",\"52.1302\",\"52.1399\",\"52.1401\",\"52.1403\",\n",
    "# \"52.1902\",\"54.0101\",\"9.0401\",\"9.0701\",\"9.0903\",\"9.0906\"],\"name\":\"Youngstown State University\",\"numFreshmen\"\n",
    "\n",
    "import re\n",
    "\n",
    "# university_list = re.findall(\"\\\"name\\\":\\\"([^\\\"]+)\\\",\\\"numFreshmen\\\"\", f.text)\n",
    "university_list = re.findall(\"\\\"rankings\\\":.+?\\\"order\\\":(\\d*).+?\\\"key\\\":\\\"overall\\\"\", f.text)\n",
    "\n",
    "# \\\"slug\\\":\\\"(.+?)\\\"\n",
    "# print(university_list[0:10])\n",
    "\n",
    "# \"\\\"rankings\\\":.+?\\\"order\\\":(\\d*)(?=.+?\\\"key\\\"=\\\"overall\\\")\\\"slug\\\":\\\"(.+?)\\\"\"\n",
    "\n",
    "\n",
    "# # \\\"majorsCipCodes\\\".+\\\"\n",
    "# # \\\"numFreshmen\\\"\n",
    "\n",
    "# # ([^,\\\"])\n",
    "\n",
    "# # for x in range(len(university_list)):\n",
    "# #     curr = university_list[x]\n",
    "\n",
    "print(len(university_list))\n",
    "\n",
    "# top_400 = university_list[0:400]\n",
    "\n",
    "# print(top_400)\n"
   ]
  },
  {
   "cell_type": "code",
   "execution_count": 6,
   "metadata": {},
   "outputs": [
    {
     "ename": "IndexError",
     "evalue": "string index out of range",
     "output_type": "error",
     "traceback": [
      "\u001b[1;31m---------------------------------------------------------------------------\u001b[0m",
      "\u001b[1;31mIndexError\u001b[0m                                Traceback (most recent call last)",
      "\u001b[1;32mC:\\Users\\VCHEN2~1\\AppData\\Local\\Temp/ipykernel_14252/2387646083.py\u001b[0m in \u001b[0;36m<module>\u001b[1;34m\u001b[0m\n\u001b[0;32m      1\u001b[0m \u001b[1;32mfor\u001b[0m \u001b[0mx\u001b[0m \u001b[1;32min\u001b[0m \u001b[0mrange\u001b[0m\u001b[1;33m(\u001b[0m\u001b[0mlen\u001b[0m\u001b[1;33m(\u001b[0m\u001b[0muniversity_list\u001b[0m\u001b[1;33m)\u001b[0m\u001b[1;33m)\u001b[0m\u001b[1;33m:\u001b[0m\u001b[1;33m\u001b[0m\u001b[1;33m\u001b[0m\u001b[0m\n\u001b[1;32m----> 2\u001b[1;33m     \u001b[0muniversity_list\u001b[0m\u001b[1;33m[\u001b[0m\u001b[0mx\u001b[0m\u001b[1;33m]\u001b[0m \u001b[1;33m=\u001b[0m \u001b[1;33m[\u001b[0m\u001b[0mint\u001b[0m\u001b[1;33m(\u001b[0m\u001b[0muniversity_list\u001b[0m\u001b[1;33m[\u001b[0m\u001b[0mx\u001b[0m\u001b[1;33m]\u001b[0m\u001b[1;33m[\u001b[0m\u001b[1;36m0\u001b[0m\u001b[1;33m]\u001b[0m\u001b[1;33m)\u001b[0m\u001b[1;33m,\u001b[0m \u001b[0muniversity_list\u001b[0m\u001b[1;33m[\u001b[0m\u001b[0mx\u001b[0m\u001b[1;33m]\u001b[0m\u001b[1;33m[\u001b[0m\u001b[1;36m1\u001b[0m\u001b[1;33m]\u001b[0m\u001b[1;33m]\u001b[0m\u001b[1;33m\u001b[0m\u001b[1;33m\u001b[0m\u001b[0m\n\u001b[0m\u001b[0;32m      3\u001b[0m \u001b[1;33m\u001b[0m\u001b[0m\n\u001b[0;32m      4\u001b[0m \u001b[0mprint\u001b[0m\u001b[1;33m(\u001b[0m\u001b[0msorted\u001b[0m\u001b[1;33m(\u001b[0m\u001b[0muniversity_list\u001b[0m\u001b[1;33m,\u001b[0m \u001b[0mkey\u001b[0m \u001b[1;33m=\u001b[0m \u001b[1;32mlambda\u001b[0m \u001b[0mpair\u001b[0m\u001b[1;33m:\u001b[0m \u001b[0mpair\u001b[0m\u001b[1;33m[\u001b[0m\u001b[1;36m0\u001b[0m\u001b[1;33m]\u001b[0m\u001b[1;33m)\u001b[0m\u001b[1;33m[\u001b[0m\u001b[1;36m0\u001b[0m\u001b[1;33m:\u001b[0m\u001b[1;36m100\u001b[0m\u001b[1;33m]\u001b[0m\u001b[1;33m)\u001b[0m\u001b[1;33m\u001b[0m\u001b[1;33m\u001b[0m\u001b[0m\n\u001b[0;32m      5\u001b[0m \u001b[1;33m\u001b[0m\u001b[0m\n",
      "\u001b[1;31mIndexError\u001b[0m: string index out of range"
     ]
    }
   ],
   "source": [
    "for x in range(len(university_list)):\n",
    "    university_list[x] = [int(university_list[x][0]), university_list[x][1]]\n",
    "\n",
    "print(sorted(university_list, key = lambda pair: pair[0])[0:100])\n",
    "\n",
    "\n",
    "# print(len(university_list))\n",
    "\n",
    "# top_400 = university_list[0:400]\n",
    "\n",
    "# print(top_400)"
   ]
  },
  {
   "cell_type": "code",
   "execution_count": 6,
   "metadata": {},
   "outputs": [
    {
     "name": "stdout",
     "output_type": "stream",
     "text": [
      "['Harvard University']\n"
     ]
    }
   ],
   "source": [
    "testtext = \"\\\"majorsCipCodes\\\":[\\\"11.0701\\\", \\\"11.0701\\\"],\\\"name\\\":\\\"Harvard University\\\",\\\"numFreshmen\\\"\"\n",
    "\n",
    "testlist = re.findall(\"\\\"majorsCipCodes\\\".+\\\"name\\\":\\\"(.*)\\\",\\\"numFreshmen\\\"\", testtext)\n",
    "\n",
    "print(testlist)"
   ]
  },
  {
   "cell_type": "code",
   "execution_count": 11,
   "metadata": {},
   "outputs": [
    {
     "name": "stdout",
     "output_type": "stream",
     "text": [
      "https://www.collegevine.com/schools/massachusetts-institute-of-technology/essay-prompts\n"
     ]
    }
   ],
   "source": [
    "# get links for all schools\n",
    "\n",
    "college_links = []\n",
    "\n",
    "for name in top_400:\n",
    "    name = name.lower()\n",
    "    college_links.append(\"https://www.collegevine.com/schools/\" \n",
    "                            + name.replace(\" \", \"-\") \n",
    "                            +  \"/essay-prompts\")\n",
    "\n",
    "print(college_links[0])"
   ]
  },
  {
   "cell_type": "code",
   "execution_count": 43,
   "metadata": {},
   "outputs": [],
   "source": [
    "# access links\n",
    "\n",
    "potential_issues = []\n",
    "\n",
    "for link in college_links:\n",
    "    temp_f = requests.get(link)\n",
    "    prompts = re.findall(\"<p>(.+)</p>\", temp_f.text)\n",
    "\n",
    "    if prompts == []:\n",
    "        potential_issues.append(link)\n",
    "\n",
    "\n",
    "# print(college_links[333])\n",
    "\n",
    "# temp_f = requests.get(college_links[323])\n",
    "\n",
    "# prompts = re.findall(\"<p>(.+)</p>\", temp_f.text)\n",
    "# print(prompts)\n"
   ]
  },
  {
   "cell_type": "code",
   "execution_count": 45,
   "metadata": {},
   "outputs": [
    {
     "name": "stdout",
     "output_type": "stream",
     "text": [
      "['https://www.collegevine.com/schools/university-of-california,-berkeley/essay-prompts', 'https://www.collegevine.com/schools/columbia-university-in-the-city-of-new-york/essay-prompts', 'https://www.collegevine.com/schools/university-of-california,-los-angeles/essay-prompts', 'https://www.collegevine.com/schools/the-university-of-texas-at-austin/essay-prompts', 'https://www.collegevine.com/schools/penn-state-university/essay-prompts', 'https://www.collegevine.com/schools/michigan-state-university/essay-prompts', 'https://www.collegevine.com/schools/university-of-california,-san-diego/essay-prompts', 'https://www.collegevine.com/schools/university-of-california,-davis/essay-prompts', 'https://www.collegevine.com/schools/university-of-maryland/essay-prompts', 'https://www.collegevine.com/schools/rutgers,-the-state-university-of-new-jersey/essay-prompts', 'https://www.collegevine.com/schools/university-of-california,-irvine/essay-prompts', 'https://www.collegevine.com/schools/the-university-of-arizona/essay-prompts', 'https://www.collegevine.com/schools/texas-a&m-university/essay-prompts', 'https://www.collegevine.com/schools/the-university-of-utah/essay-prompts', 'https://www.collegevine.com/schools/the-ohio-state-university/essay-prompts', 'https://www.collegevine.com/schools/washington-university-in-st.-louis/essay-prompts', 'https://www.collegevine.com/schools/university-of-california,-santa-barbara/essay-prompts', 'https://www.collegevine.com/schools/virginia-polytechnic-institute-and-state-university/essay-prompts', 'https://www.collegevine.com/schools/florida-state-university/essay-prompts', 'https://www.collegevine.com/schools/university-of-california,-riverside/essay-prompts', 'https://www.collegevine.com/schools/william-marsh-rice-university/essay-prompts', 'https://www.collegevine.com/schools/university-at-buffalo,-state-university-of-new-york/essay-prompts', 'https://www.collegevine.com/schools/university-of-california,-santa-cruz/essay-prompts', 'https://www.collegevine.com/schools/university-of-california,-san-francisco/essay-prompts', 'https://www.collegevine.com/schools/the-university-of-tennessee,-knoxville/essay-prompts', 'https://www.collegevine.com/schools/the-university-of-alabama/essay-prompts', 'https://www.collegevine.com/schools/the-university-of-oklahoma/essay-prompts', 'https://www.collegevine.com/schools/the-university-of-tennessee-at-martin/essay-prompts', 'https://www.collegevine.com/schools/university-of-south-carolina/essay-prompts', 'https://www.collegevine.com/schools/california-state-university,-northridge/essay-prompts', 'https://www.collegevine.com/schools/san-jos&eacute;-state-university/essay-prompts', 'https://www.collegevine.com/schools/college-of-william-&-mary/essay-prompts', 'https://www.collegevine.com/schools/stony-brook-university/essay-prompts', 'https://www.collegevine.com/schools/the-university-of-texas-at-dallas/essay-prompts', 'https://www.collegevine.com/schools/the-new-school/essay-prompts', 'https://www.collegevine.com/schools/university-of-maryland,-baltimore-county/essay-prompts', 'https://www.collegevine.com/schools/california-state-university,-long-beach/essay-prompts', 'https://www.collegevine.com/schools/indiana-university---purdue-university-indianapolis/essay-prompts', 'https://www.collegevine.com/schools/university-at-albany,-state-university-of-new-york/essay-prompts', 'https://www.collegevine.com/schools/the-university-of-maine/essay-prompts', 'https://www.collegevine.com/schools/university-of-nevada,-reno/essay-prompts', 'https://www.collegevine.com/schools/loyola-university-chicago/essay-prompts', 'https://www.collegevine.com/schools/california-state-university,-fullerton/essay-prompts', 'https://www.collegevine.com/schools/california-polytechnic-state-university,-san-luis-obispo/essay-prompts', 'https://www.collegevine.com/schools/the-university-of-texas-at-san-antonio/essay-prompts', 'https://www.collegevine.com/schools/binghamton-university,-state-university-of-new-york/essay-prompts', 'https://www.collegevine.com/schools/the-university-of-texas-at-arlington/essay-prompts', 'https://www.collegevine.com/schools/university-of-nevada,-las-vegas/essay-prompts', 'https://www.collegevine.com/schools/the-university-of-texas-md-anderson-cancer-center/essay-prompts', 'https://www.collegevine.com/schools/oregon-health-&-science-university/essay-prompts', 'https://www.collegevine.com/schools/the-university-of-montana/essay-prompts', 'https://www.collegevine.com/schools/berklee-college-of-music/essay-prompts', 'https://www.collegevine.com/schools/the-university-of-memphis/essay-prompts', 'https://www.collegevine.com/schools/university-of-maryland,-baltimore/essay-prompts', 'https://www.collegevine.com/schools/california-state-polytechnic-university,-pomona/essay-prompts', 'https://www.collegevine.com/schools/california-state-university,-sacramento/essay-prompts', 'https://www.collegevine.com/schools/california-state-university,-chico/essay-prompts', 'https://www.collegevine.com/schools/baylor-college-of-medicine/essay-prompts', 'https://www.collegevine.com/schools/calvin-university/essay-prompts', 'https://www.collegevine.com/schools/the-university-of-texas-at-el-paso/essay-prompts', 'https://www.collegevine.com/schools/the-catholic-university-of-america/essay-prompts', 'https://www.collegevine.com/schools/university-of-michigan-dearborn/essay-prompts', 'https://www.collegevine.com/schools/university-of-nebraska-at-omaha/essay-prompts', 'https://www.collegevine.com/schools/brigham-young-university-idaho/essay-prompts', 'https://www.collegevine.com/schools/humboldt-state-university/essay-prompts', 'https://www.collegevine.com/schools/rasmussen-college/essay-prompts', 'https://www.collegevine.com/schools/grand-canyon-university/essay-prompts', 'https://www.collegevine.com/schools/western-kentucky-university/essay-prompts', 'https://www.collegevine.com/schools/university-of-missouri-st.-louis/essay-prompts', 'https://www.collegevine.com/schools/the-university-of-alabama-in-huntsville/essay-prompts', 'https://www.collegevine.com/schools/lehman-college,-cuny/essay-prompts', 'https://www.collegevine.com/schools/medical-university-of-south-carolina/essay-prompts', 'https://www.collegevine.com/schools/california-state-university,-san-bernardino/essay-prompts', 'https://www.collegevine.com/schools/missouri-state-university/essay-prompts', 'https://www.collegevine.com/schools/southern-illinois-university-edwardsville/essay-prompts', 'https://www.collegevine.com/schools/loma-linda-university/essay-prompts', 'https://www.collegevine.com/schools/sonoma-state-university/essay-prompts', 'https://www.collegevine.com/schools/missouri-university-of-science-and-technology/essay-prompts', 'https://www.collegevine.com/schools/towson-university/essay-prompts', 'https://www.collegevine.com/schools/university-of-st.-thomas/essay-prompts', 'https://www.collegevine.com/schools/university-of-texas-southwestern-medical-center/essay-prompts', 'https://www.collegevine.com/schools/university-of-massachusetts-medical-school/essay-prompts', 'https://www.collegevine.com/schools/idaho-state-university/essay-prompts', 'https://www.collegevine.com/schools/eastern-kentucky-university/essay-prompts', 'https://www.collegevine.com/schools/ferris-state-university/essay-prompts', 'https://www.collegevine.com/schools/california-state-university,-fresno/essay-prompts', 'https://www.collegevine.com/schools/university-of-california,-merced/essay-prompts', 'https://www.collegevine.com/schools/university-of-north-carolina-wilmington/essay-prompts', 'https://www.collegevine.com/schools/the-university-of-texas-health-science-center-at-san-antonio/essay-prompts', 'https://www.collegevine.com/schools/university-of-baltimore/essay-prompts', 'https://www.collegevine.com/schools/fashion-institute-of-technology/essay-prompts', 'https://www.collegevine.com/schools/university-of-wisconsin-eau-claire/essay-prompts', 'https://www.collegevine.com/schools/the-evergreen-state-college/essay-prompts', 'https://www.collegevine.com/schools/weber-state-university/essay-prompts', 'https://www.collegevine.com/schools/minnesota-state-university,-mankato/essay-prompts', 'https://www.collegevine.com/schools/western-illinois-university/essay-prompts', 'https://www.collegevine.com/schools/valencia-college/essay-prompts', 'https://www.collegevine.com/schools/the-university-of-texas-health-science-center-at-houston/essay-prompts', 'https://www.collegevine.com/schools/hanover-college/essay-prompts', 'https://www.collegevine.com/schools/school-of-visual-arts/essay-prompts', 'https://www.collegevine.com/schools/university-of-illinois-at-springfield/essay-prompts', 'https://www.collegevine.com/schools/the-rockefeller-university/essay-prompts', 'https://www.collegevine.com/schools/the-university-of-tulsa/essay-prompts', 'https://www.collegevine.com/schools/california-state-university,-los-angeles/essay-prompts', 'https://www.collegevine.com/schools/the-university-of-texas-medical-branch-at-galveston/essay-prompts', 'https://www.collegevine.com/schools/simmons-university/essay-prompts', 'https://www.collegevine.com/schools/devry-university/essay-prompts', 'https://www.collegevine.com/schools/lock-haven-university/essay-prompts', 'https://www.collegevine.com/schools/fairleigh-dickinson-university/essay-prompts', 'https://www.collegevine.com/schools/miami-dade-college/essay-prompts', 'https://www.collegevine.com/schools/university-of-nebraska-medical-center/essay-prompts', 'https://www.collegevine.com/schools/university-of-texas-rio-grande-valley/essay-prompts', 'https://www.collegevine.com/schools/northern-michigan-university/essay-prompts', 'https://www.collegevine.com/schools/california-state-university-san-marcos/essay-prompts', 'https://www.collegevine.com/schools/new-mexico-institute-of-mining-and-technology/essay-prompts', \"https://www.collegevine.com/schools/st.-john's-university/essay-prompts\", 'https://www.collegevine.com/schools/wheaton-college/essay-prompts', 'https://www.collegevine.com/schools/eastern-illinois-university/essay-prompts', 'https://www.collegevine.com/schools/maharishi-international-university/essay-prompts', 'https://www.collegevine.com/schools/utah-valley-university/essay-prompts', 'https://www.collegevine.com/schools/eastern-washington-university/essay-prompts', 'https://www.collegevine.com/schools/california-state-university,-dominguez-hills/essay-prompts', 'https://www.collegevine.com/schools/medical-college-of-wisconsin/essay-prompts', 'https://www.collegevine.com/schools/university-of-wisconsin-green-bay/essay-prompts', 'https://www.collegevine.com/schools/st.-olaf-college/essay-prompts', \"https://www.collegevine.com/schools/college-of-saint-benedict/saint-john's-university/essay-prompts\", 'https://www.collegevine.com/schools/artcenter-college-of-design/essay-prompts', 'https://www.collegevine.com/schools/the-culinary-institute-of-america/essay-prompts', 'https://www.collegevine.com/schools/west-chester-university-of-pennsylvania/essay-prompts', 'https://www.collegevine.com/schools/georgetown-college/essay-prompts', 'https://www.collegevine.com/schools/western-carolina-university/essay-prompts', 'https://www.collegevine.com/schools/state-university-of-new-york-at-oswego/essay-prompts', 'https://www.collegevine.com/schools/university-of-wisconsin-oshkosh/essay-prompts', 'https://www.collegevine.com/schools/california-state-university,-stanislaus/essay-prompts', 'https://www.collegevine.com/schools/university-of-hawaii-west-oahu/essay-prompts']\n"
     ]
    }
   ],
   "source": [
    "len(potential_issues)\n",
    "\n",
    "print(potential_issues)"
   ]
  },
  {
   "cell_type": "code",
   "execution_count": 52,
   "metadata": {},
   "outputs": [
    {
     "name": "stdout",
     "output_type": "stream",
     "text": [
      "Columbia University in the City of New York\n",
      "Washington University in St. Louis\n",
      "The University of Alabama in Huntsville\n"
     ]
    }
   ],
   "source": [
    "for x in top_400:\n",
    "    if \" in \" in x.lower():\n",
    "        print(x)"
   ]
  },
  {
   "cell_type": "code",
   "execution_count": null,
   "metadata": {},
   "outputs": [],
   "source": [
    "# do this\n",
    "# conda env export > environment.yml"
   ]
  }
 ],
 "metadata": {
  "interpreter": {
   "hash": "9d354b31dddb6c50bc47b5d8ccf0c1234b7d40fa92a2d841bc909191595a9489"
  },
  "kernelspec": {
   "display_name": "Python 3.9.7 64-bit ('torchEnv': conda)",
   "language": "python",
   "name": "python3"
  },
  "language_info": {
   "codemirror_mode": {
    "name": "ipython",
    "version": 3
   },
   "file_extension": ".py",
   "mimetype": "text/x-python",
   "name": "python",
   "nbconvert_exporter": "python",
   "pygments_lexer": "ipython3",
   "version": "3.9.7"
  },
  "orig_nbformat": 4
 },
 "nbformat": 4,
 "nbformat_minor": 2
}
