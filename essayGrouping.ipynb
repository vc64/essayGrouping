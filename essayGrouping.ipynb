{
 "cells": [
  {
   "cell_type": "code",
   "execution_count": 1,
   "metadata": {},
   "outputs": [],
   "source": [
    "from nltk.tokenize import sent_tokenize, word_tokenize\n",
    "from nltk.corpus import stopwords\n",
    "from nltk.stem import WordNetLemmatizer\n",
    "import nltk\n",
    "\n",
    "import numpy as np\n",
    "import torch\n",
    "import matplotlib.pyplot as plt\n",
    "\n",
    "import random\n",
    "import math\n",
    "\n",
    "# nltk.download('punkt')\n",
    "# nltk.download(\"stopwords\")\n",
    "# nltk.download('averaged_perceptron_tagger')\n",
    "# nltk.download('wordnet')"
   ]
  },
  {
   "cell_type": "code",
   "execution_count": 2,
   "metadata": {},
   "outputs": [],
   "source": [
    "# import requests\n",
    "\n",
    "# link = \"https://www.4icu.org/us/\"\n",
    "# f = requests.get(link)\n",
    "# # print(f.text)\n",
    "\n",
    "# # print(f.text)\n",
    "\n",
    "# import re\n",
    "\n",
    "# university_list = re.findall(\"<td><a href=\\S+>(\\D+)</a>\", f.text)\n",
    "# for x in range(len(university_list)):\n",
    "#     curr = university_list[x]\n",
    "#     if curr.lower() == \"columbia university in the city of new york\":\n",
    "#         university_list[x] = curr[:19] \n",
    "#     if \"&amp\" in curr:\n",
    "#         university_list[x].replace(\"&amp;\", \" \")\n",
    "#         # and_index = curr.index(\"&\")\n",
    "#         # university_list[x] = curr[0:and_index] + \" \" + curr[and_index+5:]\n",
    "#     if \"The\" in curr:\n",
    "#         university_list[x] = curr[3:]\n",
    "#     if \",\" in curr:\n",
    "#         university_list[x].replace(\",\", \"\")\n",
    "\n",
    "# print(len(university_list))\n",
    "\n",
    "# top_400 = university_list[0:400]\n",
    "\n"
   ]
  },
  {
   "cell_type": "code",
   "execution_count": 2,
   "metadata": {},
   "outputs": [
    {
     "name": "stdout",
     "output_type": "stream",
     "text": [
      "('305', 'abilene-christian-university')\n"
     ]
    }
   ],
   "source": [
    "import requests\n",
    "\n",
    "# link = \"https://www.collegevine.com/schools/hub/overall/sheet\"\n",
    "\n",
    "link = \"https://www.collegevine.com/schools/hub/data/static\"\n",
    "\n",
    "# avoid printing f.text; Large file\n",
    "f = requests.get(link)\n",
    "\n",
    "\n",
    "import re\n",
    "\n",
    "# university_list = re.findall(\"\\\"name\\\":\\\"([^\\\"]+)\\\",\\\"numFreshmen\\\"\", f.text)\n",
    "university_list = re.findall(\"\\\"rankings\\\":.+?\\\"bucket\\\":\\\"(\\d*)\\\",\\\"key\\\":\\\"overall\\\".+?\\\"slug\\\":\\\"(.+?)\\\"\", f.text)\n",
    "\n",
    "# \\\"slug\\\":\\\"(.+?)\\\"\n",
    "# print(university_list[0:10])\n",
    "\n",
    "# \"\\\"rankings\\\":.+?\\\"order\\\":(\\d*)(?=.+?\\\"key\\\"=\\\"overall\\\")\\\"slug\\\":\\\"(.+?)\\\"\"\n",
    "\n",
    "\n",
    "# # \\\"majorsCipCodes\\\".+\\\"\n",
    "# # \\\"numFreshmen\\\"\n",
    "\n",
    "# # ([^,\\\"])\n",
    "\n",
    "# # for x in range(len(university_list)):\n",
    "# #     curr = university_list[x]\n",
    "\n",
    "print(university_list[0])\n",
    "\n"
   ]
  },
  {
   "cell_type": "code",
   "execution_count": 3,
   "metadata": {},
   "outputs": [
    {
     "name": "stdout",
     "output_type": "stream",
     "text": [
      "[[287, 'bryant-university'], [289, 'milwaukee-school-of-engineering-msoe']]\n",
      "[[403, 'ohio-wesleyan-university'], [405, 'brigham-young-university-hawaii']]\n",
      "[[647, 'university-of-indianapolis'], [649, 'franklin-college']]\n",
      "[[676, 'st-edward-s-university'], [678, 'high-point-university']]\n",
      "[[799, 'university-of-nebraska-omaha-uno'], [801, 'university-of-toledo']]\n",
      "[[852, 'rocky-mountain-college-rmc'], [854, 'hardin-simmons-university']]\n",
      "[[867, 'johnson-c-smith-university'], [869, 'spring-arbor-university']]\n",
      "[[1053, 'tabor-college'], [1055, 'wells-college']]\n",
      "[[1064, 'hope-international-university'], [1066, 'university-of-northwestern-st-paul']]\n",
      "[[1191, 'concordia-college-new-york'], [1193, 'methodist-university']]\n",
      "[[1264, 'notre-dame-de-namur-university'], [1266, 'felician-university']]\n",
      "[[1349, 'dakota-state-university'], [1351, 'southern-university-at-new-orleans']]\n",
      "1506\n"
     ]
    }
   ],
   "source": [
    "university_list = sorted(university_list, key = lambda pair: int(pair[0]))\n",
    "\n",
    "gap = 0\n",
    "\n",
    "for x in range(len(university_list)):\n",
    "    university_list[x] = [int(university_list[x][0]), university_list[x][1]]\n",
    "    if x+1 != int(university_list[x][0]) - gap:\n",
    "        gap += 1\n",
    "        print(university_list[x-1:x+1])\n",
    "\n",
    "print(len(sorted(university_list, key = lambda pair: pair[0])))\n",
    "\n",
    "top_400 = university_list[0:400]"
   ]
  },
  {
   "cell_type": "code",
   "execution_count": 6,
   "metadata": {},
   "outputs": [],
   "source": [
    "# testtext = \"\\\"majorsCipCodes\\\":[\\\"11.0701\\\", \\\"11.0701\\\"],\\\"name\\\":\\\"Harvard University\\\",\\\"numFreshmen\\\"\"\n",
    "\n",
    "# testlist = re.findall(\"\\\"majorsCipCodes\\\".+\\\"name\\\":\\\"(.*)\\\",\\\"numFreshmen\\\"\", testtext)\n",
    "\n",
    "# print(testlist)"
   ]
  },
  {
   "cell_type": "code",
   "execution_count": 4,
   "metadata": {},
   "outputs": [
    {
     "name": "stdout",
     "output_type": "stream",
     "text": [
      "https://www.collegevine.com/schools/stanford-university/essay-prompts\n"
     ]
    }
   ],
   "source": [
    "# get links for all schools\n",
    "\n",
    "college_links = []\n",
    "\n",
    "for school in top_400:\n",
    "    name = school[1]\n",
    "    college_links.append(\"https://www.collegevine.com/schools/\" \n",
    "                            + name.replace(\" \", \"-\") \n",
    "                            +  \"/essay-prompts\")\n",
    "\n",
    "print(college_links[0])"
   ]
  },
  {
   "cell_type": "code",
   "execution_count": 8,
   "metadata": {},
   "outputs": [],
   "source": [
    "# test_link = \"https://www.collegevine.com/schools/harvard-university/essay-prompts\"\n",
    "\n",
    "# f = requests.get(test_link)\n",
    "# # print(f.text)\n",
    "\n",
    "# titles = re.findall(\"<h3 class='mt-2'>(.+?)</h3>\", f.text)\n",
    "# prompts = re.findall(\"<p>(.+?)</p>\", f.text)[0:-7]\n",
    "# # titles = re.findall(\"<h3 class='mt-2'>(.+?)</h3>[\\S\\s]+?<p>(.+?)</p>\", f.text)[0:-1]\n",
    "# print(prompts)\n",
    "\n",
    "# select_prompts = re.findall(\"</h5>\\s<p>\\s<p>(.+?)</p>\", f.text)\n",
    "# print(select_prompts)\n",
    "\n",
    "\n",
    "# if prompts == []:\n",
    "#     potential_issues.append(link)\n",
    "\n",
    "# if len(titles) != len(prompts)-7:\n",
    "#     print(len(titles))\n",
    "#     print(len(prompts))\n",
    "#     print(link)"
   ]
  },
  {
   "cell_type": "code",
   "execution_count": 9,
   "metadata": {},
   "outputs": [],
   "source": [
    "# access links\n",
    "# allprompts = []\n",
    "\n",
    "# potential_issues = []\n",
    "# shift = 0\n",
    "\n",
    "# for link in college_links:\n",
    "#     f = requests.get(link)\n",
    "\n",
    "#     titles = re.findall(\"<h3 class='mt-2'>(.+?)</h3>\", f.text)\n",
    "#     prompts = re.findall(\"<p>(.+?)</p>\", f.text)\n",
    "#     # print(titles)\n",
    "#     if titles[-1] == \"Common App Personal Essay\":\n",
    "#         titles = titles[:-1]\n",
    "#         prompts = prompts[:-8]\n",
    "    \n",
    "#     if \"Select-A-Prompt Short Response\" in titles:\n",
    "#         select_prompt_ind = titles.index(\"Select-A-Prompt Short Response\")\n",
    "#         del titles[select_prompt_ind]\n",
    "#         del prompts[select_prompt_ind]\n",
    "\n",
    "#         select_prompts = re.findall(\"<h5>(.+?)</h5>\", f.text)\n",
    "#         for x in select_prompts:\n",
    "#             titles.append(\"Select-A-Prompt\")\n",
    "#             prompts.append(x)\n",
    "\n",
    "\n",
    "\n",
    "#     allprompts.append(prompts)\n",
    "\n",
    "#     if prompts == []:\n",
    "#         potential_issues.append(link)\n",
    "\n",
    "#     if len(titles) != len(prompts):\n",
    "#         print(link)\n",
    "\n",
    "# print(potential_issues)\n",
    "\n",
    "# print(college_links[333])\n",
    "\n",
    "# temp_f = requests.get(college_links[323])\n",
    "\n",
    "# prompts = re.findall(\"<p>(.+)</p>\", temp_f.text)\n",
    "# print(prompts)\n"
   ]
  },
  {
   "cell_type": "code",
   "execution_count": 5,
   "metadata": {},
   "outputs": [],
   "source": [
    "# obtain word bag\n",
    "\n",
    "def get_bag(docs, word_list):\n",
    "    out_list = []\n",
    "\n",
    "    for doc in docs:\n",
    "        stop_words = set(stopwords.words(\"english\") + [\"etc\", \"'s\", \"\"])\n",
    "        filtered_list = []\n",
    "\n",
    "        seperated_words = word_tokenize(doc[1])\n",
    "\n",
    "        for word in seperated_words:\n",
    "            # currently deciding to filter out punctuation\n",
    "            # use ascii or something this is insane\n",
    "            if word[-1] in [\".\", \",\", \";\", \":\", \"?\", \"!\", \"*\", \"’\", \"–\", \"(\", \")\", \"/\", \"~\", \"‘\", \"``\"]:\n",
    "                word = word[:-1]\n",
    "            if word not in stop_words:\n",
    "                # currently ignoring capitalization\n",
    "                filtered_list.append(word.lower())\n",
    "        \n",
    "        # filtered_list = [word for word in doc[1].split() if word not in stop_words]\n",
    "        tagged_list = nltk.pos_tag(filtered_list)\n",
    "        \n",
    "        lemmatizer = WordNetLemmatizer()\n",
    "        lemmatized_list = []\n",
    "\n",
    "        for word in tagged_list:\n",
    "            pos = \"\"\n",
    "            # print(word[1][0])\n",
    "            if word[1][0] == \"J\":\n",
    "                pos = \"a\"\n",
    "            elif word[1][0] == \"N\":\n",
    "                pos = \"n\"\n",
    "            elif word[1][0] == \"V\":\n",
    "                pos = \"v\"\n",
    "            elif word[1][0] == \"R\":\n",
    "                pos = \"r\"\n",
    "            else:\n",
    "                # print(\"uh oh\")\n",
    "                lemmatized_list.append(word[0])\n",
    "                continue\n",
    "            \n",
    "            lemmatized_list.append(lemmatizer.lemmatize(word[0], pos=pos))\n",
    "\n",
    "        word_list += lemmatized_list\n",
    "        out_list.append(lemmatized_list)\n",
    "        \n",
    "    return out_list, word_list"
   ]
  },
  {
   "cell_type": "code",
   "execution_count": 6,
   "metadata": {},
   "outputs": [],
   "source": [
    "# access links and create general word bag\n",
    "\n",
    "\n",
    "# currently trying to use list instead of dictionary to store prompts and their corresponding index\n",
    "allprompts = []\n",
    "prompt_matrix = []\n",
    "\n",
    "potential_issues = []\n",
    "index = 0\n",
    "prompts = []\n",
    "has_common_app = False\n",
    "word_list = []\n",
    "\n",
    "for link_index in range(len(college_links)):\n",
    "    has_common_app = False\n",
    "    link = college_links[link_index]\n",
    "    f = requests.get(link)\n",
    "\n",
    "    noprompts = re.search(\"<h2>\", f.text)\n",
    "\n",
    "    if not bool(noprompts):\n",
    "        prompts = re.findall(\"<h3 class='mt-2'>(.+?)</h3>[\\S\\s]+?<p>(.+?)</p>\", f.text)\n",
    "        select_prompts = re.findall(\"</h5>\\s<p>\\s<p>(.+?)</p>\", f.text)\n",
    "\n",
    "        if prompts == []:\n",
    "            potential_issues.append(link)\n",
    "            continue\n",
    "\n",
    "        if prompts[-1][0] == \"Common App Personal Essay\":\n",
    "            has_common_app = True\n",
    "            prompts = prompts[:-1]\n",
    "            select_prompts = select_prompts[:-7]\n",
    "\n",
    "        if select_prompts != []:\n",
    "            i = 0\n",
    "            while i < len(prompts):\n",
    "                # print(len(prompts[x]))\n",
    "                if \"Select-A-Prompt\" in prompts[i][0]:\n",
    "                    del prompts[i]\n",
    "                else:\n",
    "                    i += 1\n",
    "\n",
    "            if has_common_app:\n",
    "                for x in select_prompts:\n",
    "                    prompts.append((\"Select-A-Prompt\", x))\n",
    "\n",
    "        # checks again, but now for schools with only common app essay\n",
    "        if prompts == []:\n",
    "            continue\n",
    "        \n",
    "        # prompts is a list of prompts for the current school.\n",
    "        # each prompt is in a tuple with their title first and then the prompt\n",
    "        allprompts.append([link_index, prompts])\n",
    "\n",
    "        prompts, word_list = get_bag(prompts, word_list)\n",
    "        \n",
    "        # school_rank = top_400[link_index][0]\n",
    "        \n",
    "        for j in range(len(prompts)):\n",
    "            prompt_matrix.append([index, j] + prompts[j])\n",
    "        \n",
    "        index += 1\n",
    "\n",
    "        # allprompts.append([[link_index] + prompts[j] for j in range(len(prompts))])"
   ]
  },
  {
   "cell_type": "code",
   "execution_count": 7,
   "metadata": {},
   "outputs": [
    {
     "name": "stdout",
     "output_type": "stream",
     "text": [
      "[0, 5, 'what', 'historical', 'moment', 'event', 'wish', 'could', 'witness']\n"
     ]
    }
   ],
   "source": [
    "print(prompt_matrix[5])"
   ]
  },
  {
   "cell_type": "code",
   "execution_count": 14,
   "metadata": {},
   "outputs": [],
   "source": [
    "# single case testing\n",
    "\n",
    "# has_common_app = False\n",
    "# link = \"https://www.collegevine.com/schools/stanford-university/essay-prompts\"\n",
    "# f = requests.get(link)\n",
    "\n",
    "# noprompts = re.search(\"<h2>\", f.text)\n",
    "# allprompts = {}\n",
    "# word_list = []\n",
    "\n",
    "# for link_index in range(1,2):\n",
    "#     if not bool(noprompts):\n",
    "#         prompts = re.findall(\"<h3 class='mt-2'>(.+?)</h3>[\\S\\s]+?<p>(.+?)</p>\", f.text)\n",
    "#         select_prompts = re.findall(\"</h5>\\s<p>\\s<p>(.+?)</p>\", f.text)\n",
    "\n",
    "#         if prompts == []:\n",
    "#             potential_issues.append(link)\n",
    "#             break\n",
    "\n",
    "#         if prompts[-1][0] == \"Common App Personal Essay\":\n",
    "#             has_common_app = True\n",
    "#             prompts = prompts[:-1]\n",
    "#             select_prompts = select_prompts[:-7]\n",
    "\n",
    "#         if select_prompts != []:\n",
    "#             i = 0\n",
    "#             while i < len(prompts):\n",
    "#                 # print(len(prompts[x]))\n",
    "#                 if \"Select-A-Prompt\" in prompts[i][0]:\n",
    "#                     del prompts[i]\n",
    "#                 else:\n",
    "#                     i += 1\n",
    "\n",
    "#             if has_common_app:\n",
    "#                 for x in select_prompts:\n",
    "#                     prompts.append((\"Select-A-Prompt\", x))\n",
    "\n",
    "#         word_list = get_bag(prompts, word_list)\n",
    "\n",
    "#         school_rank = top_400[link_index][0]\n",
    "#         allprompts[school_rank] = prompts\n",
    "\n",
    "\n",
    "# print(word_list[0:100])"
   ]
  },
  {
   "cell_type": "code",
   "execution_count": 8,
   "metadata": {},
   "outputs": [
    {
     "name": "stdout",
     "output_type": "stream",
     "text": [
      "[]\n"
     ]
    }
   ],
   "source": [
    "len(potential_issues)\n",
    "\n",
    "print(potential_issues)"
   ]
  },
  {
   "cell_type": "code",
   "execution_count": 9,
   "metadata": {},
   "outputs": [
    {
     "name": "stdout",
     "output_type": "stream",
     "text": [
      "[0, [('Intellectual Passion Short Response', 'The Stanford community is deeply curious and driven to learn in and out of the classroom. Reflect on an idea or experience that makes you genuinely excited about learning.*'), ('Roommate Short Response', \"Virtually all of Stanford's undergraduates live on campus. Write a note to your future roommate that reveals something about you or that will help your roommate – and us – get to know you better.*\"), ('Share Something Meaningful Short Response', 'Tell us about something that is meaningful to you and why.*'), ('Societal Challenge Short Response', 'What is the most significant challenge that society faces today?'), ('Summer Activities Short Response', 'How did you spend your last two summers?'), ('Historical Moment Short Response', 'What historical moment or event do you wish you could have witnessed?'), ('Extracurricular Short Response', 'Briefly elaborate on one of your extracurricular activities, a job you hold, or responsibilities you have for your family.'), ('Stanford Experience Short Response', 'Name one thing you are looking forward to experiencing at Stanford.')]]\n"
     ]
    }
   ],
   "source": [
    "print(allprompts[0])"
   ]
  },
  {
   "cell_type": "code",
   "execution_count": 10,
   "metadata": {},
   "outputs": [
    {
     "name": "stdout",
     "output_type": "stream",
     "text": [
      "12458 2455\n",
      "['road', 'uma', 'discriminate', 'fill', 'recycle', 'define', 'prosim', 'wonderfully', 'biola', 'word', 'better', 'nothing', 'procedure', 'surprising', 'prepared', 'supplemental', 'meaning', 'maya', 'incorporates', 'bird', 'derive', 'club', 'joy', 'disciplinary', 'integrate', 'tell', 'october', 'violence', 'anxiety', 'www.belmont.edu/honors.the', 'describe', '30-minute', 'precisely', 'experience', 'complement', 'premedical', 'daniel', 'coordinated', 'accomplishment', 'brief', 'indicate', 'connection', 'community', 'exemplify', 'briefly', 'n', 'introspection', 'necessary', 'regular', 'obligation', 'attention', 'think', 'abolitionist', 'ago', 'memorable', 'technical', 'well-developed', 'classroom', 'resilience', 'comment', 'immediate', 'maggie', 'tv', 'deep', 'cumulative', 'jdp', 'le', 'innovative', 'sympathetic', 'these', 'solution', 'day', 'complain', 'quo', 'vulnerable', 'princeton', 'dc', 'mobile', 'pledge', 'naturalize', 'grades', 'rise', 'youtube', 'big', 'arizona', '``', 'large', 'new', 'proud', 'emerge', 'and/or', 'decide', 'complex', 'augustine', 'variety', 'syracuse', 'surprise', 'race', 'feature', 'heart']\n"
     ]
    }
   ],
   "source": [
    "print(len(word_list), len(set(word_list)))\n",
    "\n",
    "# print(word_list[0:100])\n",
    "\n",
    "random.seed(111)\n",
    "\n",
    "word_list = list(set(word_list))\n",
    "\n",
    "random.shuffle(word_list)\n",
    "\n",
    "print(word_list[0:100])"
   ]
  },
  {
   "cell_type": "code",
   "execution_count": 11,
   "metadata": {},
   "outputs": [
    {
     "name": "stdout",
     "output_type": "stream",
     "text": [
      "[386, 'birmingham-southern-college-bsc']\n"
     ]
    }
   ],
   "source": [
    "for i in range(len(top_400)):\n",
    "    if i == 384:\n",
    "        print(top_400[i])"
   ]
  },
  {
   "cell_type": "code",
   "execution_count": 19,
   "metadata": {},
   "outputs": [],
   "source": [
    "# alltitles = []\n",
    "\n",
    "# for link in college_links:\n",
    "#     f = requests.get(link)\n",
    "\n",
    "#     titles = re.findall(\"<h3 class='mt-2'>(.+?)</h3>\", f.text)\n",
    "#     alltitles += titles\n",
    "\n",
    "# alltitles = set(alltitles)\n",
    "\n",
    "# print(len(alltitles))\n"
   ]
  },
  {
   "cell_type": "code",
   "execution_count": 20,
   "metadata": {},
   "outputs": [],
   "source": [
    "# print(list(alltitles)[0:10])"
   ]
  },
  {
   "cell_type": "code",
   "execution_count": 20,
   "metadata": {},
   "outputs": [
    {
     "name": "stdout",
     "output_type": "stream",
     "text": [
      "0\n"
     ]
    },
    {
     "ename": "KeyError",
     "evalue": "0",
     "output_type": "error",
     "traceback": [
      "\u001b[1;31m---------------------------------------------------------------------------\u001b[0m",
      "\u001b[1;31mKeyError\u001b[0m                                  Traceback (most recent call last)",
      "\u001b[1;32mC:\\Users\\VCHEN2~1\\AppData\\Local\\Temp/ipykernel_15364/2989819029.py\u001b[0m in \u001b[0;36m<module>\u001b[1;34m\u001b[0m\n\u001b[0;32m     15\u001b[0m     \u001b[1;32mfor\u001b[0m \u001b[0mword\u001b[0m \u001b[1;32min\u001b[0m \u001b[0mprompt_matrix\u001b[0m\u001b[1;33m[\u001b[0m\u001b[0mprompt_ind\u001b[0m\u001b[1;33m]\u001b[0m\u001b[1;33m[\u001b[0m\u001b[1;36m2\u001b[0m\u001b[1;33m:\u001b[0m\u001b[1;33m]\u001b[0m\u001b[1;33m:\u001b[0m\u001b[1;33m\u001b[0m\u001b[1;33m\u001b[0m\u001b[0m\n\u001b[0;32m     16\u001b[0m         \u001b[0mprint\u001b[0m\u001b[1;33m(\u001b[0m\u001b[0mword\u001b[0m\u001b[1;33m)\u001b[0m\u001b[1;33m\u001b[0m\u001b[1;33m\u001b[0m\u001b[0m\n\u001b[1;32m---> 17\u001b[1;33m         \u001b[1;32mif\u001b[0m \u001b[0mcurr_freq\u001b[0m\u001b[1;33m[\u001b[0m\u001b[0mword\u001b[0m\u001b[1;33m]\u001b[0m \u001b[1;33m==\u001b[0m \u001b[1;36m0\u001b[0m\u001b[1;33m:\u001b[0m\u001b[1;33m\u001b[0m\u001b[1;33m\u001b[0m\u001b[0m\n\u001b[0m\u001b[0;32m     18\u001b[0m             \u001b[0mword_doc_freq\u001b[0m\u001b[1;33m[\u001b[0m\u001b[0mword\u001b[0m\u001b[1;33m]\u001b[0m \u001b[1;33m+=\u001b[0m \u001b[1;36m1\u001b[0m\u001b[1;33m\u001b[0m\u001b[1;33m\u001b[0m\u001b[0m\n\u001b[0;32m     19\u001b[0m         \u001b[0mcurr_freq\u001b[0m\u001b[1;33m[\u001b[0m\u001b[0mword\u001b[0m\u001b[1;33m]\u001b[0m \u001b[1;33m+=\u001b[0m \u001b[1;36m1\u001b[0m\u001b[1;33m\u001b[0m\u001b[1;33m\u001b[0m\u001b[0m\n",
      "\u001b[1;31mKeyError\u001b[0m: 0"
     ]
    }
   ],
   "source": [
    "# turn prompts into vectors\n",
    "\n",
    "# stores number of docs with word w\n",
    "\n",
    "word_freq_matrix = []\n",
    "\n",
    "word_doc_freq = dict(zip(word_list, [0 for x in range(len(word_list))]))\n",
    "\n",
    "for prompt_ind in range(len(prompt_matrix)):\n",
    "    curr_freq = dict(zip(word_list, [0 for x in range(len(word_list))]))\n",
    "    \n",
    "    # word_counted = False\n",
    "    # num_words = len(prompt_matrix[prompt_ind][2:])\n",
    "\n",
    "    for word in prompt_matrix[prompt_ind][2:]:\n",
    "        if curr_freq[word] == 0:\n",
    "            word_doc_freq[word] += 1\n",
    "        curr_freq[word] += 1\n",
    "    \n",
    "    # prompt_matrix[prompt_ind] = prompt_matrix[prompt_ind][0:2] + list(curr_freq.values())\n",
    "    word_freq_matrix.append(list(curr_freq.values()))\n",
    "\n",
    "# print(word_doc_freq)\n"
   ]
  },
  {
   "cell_type": "code",
   "execution_count": 13,
   "metadata": {},
   "outputs": [],
   "source": [
    "# print(word_freq_matrix)\n",
    "\n",
    "for vector_ind in range(len(word_freq_matrix)):\n",
    "    tf_idf_vector = []\n",
    "\n",
    "    freq_ind = 0\n",
    "    for word_freq in word_freq_matrix[vector_ind]:\n",
    "        if word_freq > 0:\n",
    "            tf = word_freq / sum(word_freq_matrix[vector_ind])\n",
    "            if (tf >= 1):\n",
    "                print(vector_ind)\n",
    "            # print(len(word_list))\n",
    "            # print(len(word_freq_matrix[vector_ind]))\n",
    "\n",
    "            # look into idf...\n",
    "            # https://towardsdatascience.com/tf-term-frequency-idf-inverse-document-frequency-from-scratch-in-python-6c2b61b78558\n",
    "            \n",
    "            idf = math.log(len(word_freq_matrix) / word_doc_freq[word_list[freq_ind]])\n",
    "            tf_idf_vector.append(tf * idf)\n",
    "        else:\n",
    "            tf_idf_vector.append(0)\n",
    "        freq_ind += 1\n",
    "    \n",
    "    prompt_matrix[vector_ind] = prompt_matrix[vector_ind][0:2] + tf_idf_vector\n"
   ]
  },
  {
   "cell_type": "code",
   "execution_count": 14,
   "metadata": {},
   "outputs": [
    {
     "name": "stdout",
     "output_type": "stream",
     "text": [
      "3.295150524098343\n"
     ]
    }
   ],
   "source": [
    "print(max([max(prompt_matrix[x][2:]) for x in range(len(prompt_matrix))]))\n",
    "# print(prompt_matrix)"
   ]
  },
  {
   "cell_type": "code",
   "execution_count": 15,
   "metadata": {},
   "outputs": [
    {
     "name": "stdout",
     "output_type": "stream",
     "text": [
      "torch.Size([728, 2457])\n"
     ]
    }
   ],
   "source": [
    "# print(allprompts[17])\n",
    "# prompt_matrix = []\n",
    "\n",
    "# for prompt in allprompts:\n",
    "# \n",
    "#     for prompt in prompts:\n",
    "#         prompt_matrix.append(prompt)\n",
    "\n",
    "prompt_tensor = torch.tensor(prompt_matrix, dtype=torch.float32)\n",
    "\n",
    "print(prompt_tensor.shape)\n",
    "\n",
    "torch.manual_seed(333)\n",
    "U, S, V = torch.pca_lowrank(prompt_tensor[:,2:], q=None, center=True, niter=3)\n",
    "\n",
    "pca_axes = torch.matmul(prompt_tensor[:,2:], V[:, :7])"
   ]
  },
  {
   "cell_type": "code",
   "execution_count": 16,
   "metadata": {},
   "outputs": [
    {
     "data": {
      "image/png": "[encoded data removed]",
      "text/plain": [
       "<Figure size 1850x1050 with 16 Axes>"
      ]
     },
     "metadata": {
      "needs_background": "light"
     },
     "output_type": "display_data"
    }
   ],
   "source": [
    "# print(pca_axes[...,0])\n",
    "# print(max(pca_axes[:,0]))\n",
    "\n",
    "\n",
    "# combo plot\n",
    "num_comps = 4\n",
    "\n",
    "fig, axs = plt.subplots(num_comps, num_comps)\n",
    "\n",
    "fig.set_size_inches(18.5, 10.5, forward=True)\n",
    "\n",
    "fig.set_dpi(100)\n",
    "\n",
    "for i in range(0, num_comps):\n",
    "    for j in range(0, num_comps):\n",
    "        axs[i][j].scatter(pca_axes[:,i], pca_axes[:,j])\n",
    "\n",
    "# interesting note: almost all the plots have a central clump and then one or more very pronounced arms\n",
    "# need to consider whether PCA is meaningful for nlp clustering\n",
    "\n",
    "\n",
    "# # single plot\n",
    "\n",
    "# fig = plt.figure(figsize=(20,20))\n",
    "# plt.scatter(pca_axes[:,0], pca_axes[:,1], s=20)\n",
    "\n",
    "# fig.set_dpi(100)"
   ]
  },
  {
   "cell_type": "code",
   "execution_count": 26,
   "metadata": {},
   "outputs": [],
   "source": [
    "# k means clustering from scratch\n",
    "# 2D ONLY\n",
    "\n",
    "# import random\n",
    "\n",
    "# def find_distances(xvals, yvals, centroids):\n",
    "#     clusters = [[] for x in range(len(centroids))]\n",
    "\n",
    "#     for i in range(len(xvals)):\n",
    "#         curr_point = [xvals[i], yvals[i]]\n",
    "\n",
    "#         # should be large enough given that words will rarely \n",
    "#         #   occur more than even 20 times in one prompt\n",
    "#         min_dist = 100000\n",
    "#         min_ind = -1\n",
    "#         for j in range(len(centroids)):\n",
    "#             # print(centroids[j])\n",
    "#             curr_dist = sum(abs(centroids[j] - curr_point)) ** 0.5\n",
    "#             # print(curr_dist)\n",
    "#             if curr_dist < min_dist:\n",
    "#                 min_dist = curr_dist\n",
    "#                 min_ind = j\n",
    "        \n",
    "#         # print(min_ind)\n",
    "#         clusters[min_ind].append(curr_point)\n",
    "\n",
    "#     return clusters\n",
    "\n",
    "\n",
    "# def k_means(xvals, yvals, k):\n",
    "#     centroids = []\n",
    "\n",
    "#     random.seed(333)\n",
    "\n",
    "#     for center_num in range(k):\n",
    "#         index = random.randrange(0, len(xvals))\n",
    "#         coordinate = np.asarray([xvals[index], yvals[index]])\n",
    "#         centroids.append(coordinate)\n",
    "    \n",
    "#     # print(centroids)\n",
    "#     equal_means = 0\n",
    "#     clusters = []\n",
    "\n",
    "#     while equal_means < k:\n",
    "#         clusters = find_distances(xvals, yvals, centroids)\n",
    "#         # print(len(clusters))\n",
    "#         for i in range(k):\n",
    "#             mean = sum(np.asarray(clusters[i])) / len(clusters[i])\n",
    "#             # print(mean)\n",
    "#             if (mean[0] != centroids[i][0]) and (mean[1] != centroids[i][1]):\n",
    "#                 centroids[i] = mean\n",
    "#             else:\n",
    "#                 equal_means += 1\n",
    "    \n",
    "#     return clusters\n"
   ]
  },
  {
   "cell_type": "code",
   "execution_count": 17,
   "metadata": {},
   "outputs": [],
   "source": [
    "# k-means for any dim, points is list of vectors in n-dim\n",
    "\n",
    "def select_init(points, k, labels):\n",
    "    random.seed = (333)\n",
    "\n",
    "    dist_weights = []\n",
    "    centroids = []\n",
    "\n",
    "    centroids.append(np.asarray(random.choice(points)))\n",
    "\n",
    "    while len(centroids) < k:\n",
    "        dist_weights = find_distances(points, centroids, labels)\n",
    "        # print()\n",
    "        centroids.append(np.asarray(random.choices(points, weights=dist_weights)[0]))\n",
    "    \n",
    "    # print(centroids)\n",
    "    return centroids\n",
    "\n",
    "\n",
    "def find_distances(points, centroids, labels = 0):\n",
    "    clusters = [[] for x in range(len(centroids))]\n",
    "    closest_dists = []\n",
    "    # print(centroids)\n",
    "\n",
    "    for curr_point in points:\n",
    "\n",
    "        # should be large enough given that words will rarely \n",
    "        #   occur more than even 20 times in one prompt\n",
    "        min_dist = 100000000\n",
    "        min_ind = len(centroids)\n",
    "        for j in range(len(centroids)):\n",
    "            curr_dist = sum((centroids[j][labels:] - curr_point[labels:]) ** 2) ** 0.5\n",
    "            # print(curr_dist, j)\n",
    "            if curr_dist < min_dist:\n",
    "                min_dist = curr_dist\n",
    "        \n",
    "        closest_dists.append(min_dist)\n",
    "        # print(min_ind)\n",
    "        \n",
    "    return closest_dists\n",
    "\n",
    "\n",
    "def find_clusters(points, centroids, labels = 0):\n",
    "    clusters = [[] for x in range(len(centroids))]\n",
    "\n",
    "    for curr_point in points:\n",
    "\n",
    "        # should be large enough given that words will rarely \n",
    "        #   occur more than even 20 times in one prompt\n",
    "        min_dist = 100000000\n",
    "        min_ind = len(centroids)\n",
    "        for j in range(len(centroids)):\n",
    "            curr_dist = sum((centroids[j][labels:] - curr_point[labels:]) ** 2) ** 0.5\n",
    "            if curr_dist < min_dist:\n",
    "                min_dist = curr_dist\n",
    "                min_ind = j\n",
    "        \n",
    "        # print(min_ind)\n",
    "        clusters[min_ind].append(curr_point)\n",
    "\n",
    "    return clusters\n",
    "\n",
    "\n",
    "def k_means(points, k, labels = 0):\n",
    "\n",
    "    # random.seed(133)\n",
    "\n",
    "    centroids = select_init(points, k, labels)\n",
    "\n",
    "    # centroids = random.sample(points, k)\n",
    "\n",
    "    for center_num in range(k):\n",
    "        centroids[center_num] = np.asarray(centroids[center_num])\n",
    "    \n",
    "    # print(centroids)\n",
    "    equal_means = 0\n",
    "    clusters = []\n",
    "\n",
    "    while equal_means < k:\n",
    "        clusters = find_clusters(points, centroids, labels)\n",
    "        # print(len(clusters))\n",
    "        for i in range(k):\n",
    "            mean = sum(np.asarray(clusters[i])) / len(clusters[i])\n",
    "            # print(mean)\n",
    "            dim = labels\n",
    "            curr_equal_means = True\n",
    "            while (dim < len(points[0])) and curr_equal_means:\n",
    "                if (mean[dim] != centroids[i][dim]):\n",
    "                    centroids[i] = mean\n",
    "                    curr_equal_means = False\n",
    "                dim += 1\n",
    "            \n",
    "            if dim == len(points[0]):\n",
    "                equal_means += 1\n",
    "    \n",
    "    return clusters"
   ]
  },
  {
   "cell_type": "code",
   "execution_count": 18,
   "metadata": {},
   "outputs": [
    {
     "name": "stdout",
     "output_type": "stream",
     "text": [
      "626\n"
     ]
    },
    {
     "data": {
      "text/plain": [
       "<matplotlib.collections.PathCollection at 0x243a10edb50>"
      ]
     },
     "execution_count": 18,
     "metadata": {},
     "output_type": "execute_result"
    },
    {
     "data": {
      "image/png": "[encoded data removed]",
      "text/plain": [
       "<Figure size 432x288 with 1 Axes>"
      ]
     },
     "metadata": {
      "needs_background": "light"
     },
     "output_type": "display_data"
    }
   ],
   "source": [
    "pca_points = [[pca_axes[:,0][i], pca_axes[:,1][i]] for i in range(len(pca_axes[:,1]))]\n",
    "\n",
    "pca_clusters = k_means(pca_points, 5)\n",
    "\n",
    "print(len(pca_clusters[0]))\n",
    "\n",
    "pca_clusters_graph = []\n",
    "\n",
    "for c in range(len(pca_clusters)):\n",
    "    for x in pca_clusters[c]:\n",
    "        pca_clusters_graph.append(x + [c])\n",
    "\n",
    "pca_clusters_graph = np.asarray(pca_clusters_graph)\n",
    "\n",
    "plt.scatter(pca_clusters_graph[:,0], pca_clusters_graph[:,1], c = pca_clusters_graph[:,2])"
   ]
  },
  {
   "cell_type": "code",
   "execution_count": 29,
   "metadata": {},
   "outputs": [
    {
     "name": "stdout",
     "output_type": "stream",
     "text": [
      "3\n",
      "2\n",
      "1\n",
      "1\n",
      "1\n",
      "1\n",
      "1\n",
      "3\n",
      "2\n",
      "2\n",
      "1\n",
      "375\n",
      "1\n",
      "1\n",
      "2\n",
      "4\n",
      "13\n",
      "1\n",
      "1\n",
      "1\n",
      "1\n",
      "1\n",
      "1\n",
      "1\n",
      "3\n",
      "1\n",
      "1\n",
      "1\n",
      "2\n",
      "5\n",
      "5\n",
      "1\n",
      "1\n",
      "1\n",
      "10\n",
      "43\n",
      "2\n",
      "1\n",
      "1\n",
      "1\n",
      "2\n",
      "2\n",
      "12\n",
      "1\n",
      "2\n",
      "20\n",
      "67\n",
      "119\n",
      "2\n",
      "1\n"
     ]
    }
   ],
   "source": [
    "all_clusters = k_means(prompt_matrix, 50, labels = 2)\n",
    "\n",
    "for x in all_clusters:\n",
    "    print(len(x))"
   ]
  },
  {
   "cell_type": "code",
   "execution_count": 30,
   "metadata": {},
   "outputs": [
    {
     "name": "stdout",
     "output_type": "stream",
     "text": [
      "2\n",
      "[135, 'university-of-tulsa'] ('Additional Info Short Response', 'Is there anything else you’d like to share?')\n",
      "[266, 'westmont-college'] ('About You Essay', 'Tell us your story.  Include any details that will help our team get to know you.  Be as creative in your writing as you like.')\n"
     ]
    }
   ],
   "source": [
    "n = 9\n",
    "for x in all_clusters[n:n+1]:\n",
    "    print(len(x))\n",
    "    for i in range(0, len(x), 1):\n",
    "        school_ind = x[i][0]\n",
    "        prompt_ind = x[i][1]\n",
    "        print(top_400[allprompts[school_ind][0]], allprompts[school_ind][1][prompt_ind])\n",
    "\n",
    "# current issue: the vectors are basically just clustering based on their order in rankings\n",
    "# solutions: 1) randomize word_list order\n",
    "#            2) uhhhhh why does it still group them by order wtf\n"
   ]
  },
  {
   "cell_type": "code",
   "execution_count": 31,
   "metadata": {},
   "outputs": [],
   "source": [
    "# to-do \n",
    "# [X] conda env export > environment.yml \n",
    "# [?] incorporate select-a-prompts\n",
    "# [?] check for weird symbols, i.e. \"&amp\"\n",
    "# [] figure out issue with multi paragraph prompts\n",
    "# [*] use nltk to process prompts\n",
    "# [*] look into tf-idf\n",
    "# [X] download matplotlib on school computer\n",
    "# [*] clustering\n",
    "#  - - [x] k-means based on euclidean dist\n",
    "#  - - [] k-means based on cosine similarity?\n",
    "#  - - [] hierarchical\n",
    "# [X] commit and push yml file to remote\n",
    "# [?] create list translating between ranking and name, basically watch out for 288 and maybe 404\n",
    "#  - - [] use array instead of dictionary for allprompts? if looking for original, just use index...\n",
    "# [*] try larger number of clusters (100?)\n",
    "# [] look into ML algs for unsupervised clustering, maybe NN?\n",
    "\n",
    "# https://towardsdatascience.com/different-techniques-to-represent-words-as-vectors-word-embeddings-3e4b9ab7ceb4\n",
    "# https://www.analyticsvidhya.com/blog/2020/08/top-4-sentence-embedding-techniques-using-python/\n",
    "# https://towardsdatascience.com/a-friendly-introduction-to-text-clustering-fa996bcefd04"
   ]
  }
 ],
 "metadata": {
  "interpreter": {
   "hash": "b418b85fe72fd2a9dc7ef40975d81e330596278f99abc6ce3a2e3283e2b5414f"
  },
  "kernelspec": {
   "display_name": "Python 3.9.7 64-bit ('torchenv': conda)",
   "name": "python3"
  },
  "language_info": {
   "codemirror_mode": {
    "name": "ipython",
    "version": 3
   },
   "file_extension": ".py",
   "mimetype": "text/x-python",
   "name": "python",
   "nbconvert_exporter": "python",
   "pygments_lexer": "ipython3",
   "version": "3.9.7"
  },
  "orig_nbformat": 4
 },
 "nbformat": 4,
 "nbformat_minor": 2
}
