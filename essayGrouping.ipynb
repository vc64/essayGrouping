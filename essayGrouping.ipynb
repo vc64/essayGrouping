{
 "cells": [
  {
   "cell_type": "code",
   "execution_count": 2,
   "metadata": {},
   "outputs": [],
   "source": [
    "from nltk.tokenize import sent_tokenize, word_tokenize\n",
    "\n"
   ]
  },
  {
   "cell_type": "code",
   "execution_count": 3,
   "metadata": {},
   "outputs": [
    {
     "name": "stdout",
     "output_type": "stream",
     "text": [
      "1766\n"
     ]
    }
   ],
   "source": [
    "import requests\n",
    "\n",
    "link = \"https://www.4icu.org/us/\"\n",
    "f = requests.get(link)\n",
    "# print(f.text)\n",
    "\n",
    "# print(f.text)\n",
    "\n",
    "import re\n",
    "\n",
    "university_list = re.findall(\"<td><a href=\\S+>(\\D+)</a>\", f.text)\n",
    "for x in range(len(university_list)):\n",
    "    curr = university_list[x]\n",
    "    if \"&amp\" in curr:\n",
    "        and_index = curr.index(\"&\")\n",
    "        university_list[x] = curr[0:and_index+1] + curr[and_index+5:]\n",
    "\n",
    "print(len(university_list))\n",
    "\n",
    "top_400 = university_list[0:400]\n",
    "\n",
    "# print(top_200)\n"
   ]
  },
  {
   "cell_type": "code",
   "execution_count": null,
   "metadata": {},
   "outputs": [],
   "source": []
  }
 ],
 "metadata": {
  "interpreter": {
   "hash": "9d354b31dddb6c50bc47b5d8ccf0c1234b7d40fa92a2d841bc909191595a9489"
  },
  "kernelspec": {
   "display_name": "Python 3.9.7 64-bit ('torchEnv': conda)",
   "language": "python",
   "name": "python3"
  },
  "language_info": {
   "codemirror_mode": {
    "name": "ipython",
    "version": 3
   },
   "file_extension": ".py",
   "mimetype": "text/x-python",
   "name": "python",
   "nbconvert_exporter": "python",
   "pygments_lexer": "ipython3",
   "version": "3.9.7"
  },
  "orig_nbformat": 4
 },
 "nbformat": 4,
 "nbformat_minor": 2
}
