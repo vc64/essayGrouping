{
 "cells": [
  {
   "cell_type": "code",
   "execution_count": 1,
   "metadata": {},
   "outputs": [],
   "source": [
    "from nltk.tokenize import sent_tokenize, word_tokenize\n",
    "\n"
   ]
  },
  {
   "cell_type": "code",
   "execution_count": 2,
   "metadata": {},
   "outputs": [
    {
     "name": "stdout",
     "output_type": "stream",
     "text": [
      "1766\n"
     ]
    }
   ],
   "source": [
    "import requests\n",
    "\n",
    "link = \"https://www.4icu.org/us/\"\n",
    "f = requests.get(link)\n",
    "# print(f.text)\n",
    "\n",
    "# print(f.text)\n",
    "\n",
    "import re\n",
    "\n",
    "university_list = re.findall(\"<td><a href=\\S+>(\\D+)</a>\", f.text)\n",
    "for x in range(len(university_list)):\n",
    "    curr = university_list[x]\n",
    "    if curr.lower() == \"columbia university in the city of new york\":\n",
    "        university_list[x] = curr[:19] \n",
    "    if \"&amp\" in curr:\n",
    "        university_list[x].replace(\"&amp;\", \" \")\n",
    "        # and_index = curr.index(\"&\")\n",
    "        # university_list[x] = curr[0:and_index] + \" \" + curr[and_index+5:]\n",
    "    if \"The\" in curr:\n",
    "        university_list[x] = curr[3:]\n",
    "    if \",\" in curr:\n",
    "        university_list[x].replace(\",\", \"\")\n",
    "\n",
    "print(len(university_list))\n",
    "\n",
    "top_400 = university_list[0:400]\n",
    "\n",
    "# print(top_200)\n"
   ]
  },
  {
   "cell_type": "code",
   "execution_count": 5,
   "metadata": {},
   "outputs": [
    {
     "name": "stdout",
     "output_type": "stream",
     "text": [
      "('305', 'abilene-christian-university')\n"
     ]
    }
   ],
   "source": [
    "import requests\n",
    "\n",
    "# link = \"https://www.collegevine.com/schools/hub/overall/sheet\"\n",
    "\n",
    "link = \"https://www.collegevine.com/schools/hub/data/static\"\n",
    "\n",
    "# avoid printing f.text; Large file\n",
    "f = requests.get(link)\n",
    "\n",
    "\n",
    "# \"majorsCipCodes\":[\"11.0701\",\"14.0501\",\"14.1001\",\"14.1301\",\"14.1901\",\"16.0102\",\"16.0104\",\"16.0201\",\n",
    "# \"16.0301\",\"16.0302\",\"16.0303\",\"16.04\",\"16.0402\",\"16.0407\",\"16.0408\",\"16.0501\",\"16.0502\",\"16.0506\",\n",
    "# \"16.0599\",\"16.0701\",\"16.09\",\"16.0901\",\"16.0902\",\"16.0904\",\"16.0905\",\"16.1101\",\"16.1102\",\"16.12\",\n",
    "# \"16.1203\",\"16.1299\",\"16.1301\",\"16.1402\",\"16.1501\",\"23.0101\",\"24.0101\",\"24.0103\",\"26.0101\",\"26.0202\",\n",
    "# \"26.0404\",\"26.0406\",\"26.0599\",\"26.1303\",\"26.1503\",\"27.0101\",\"27.0301\",\"27.0501\",\"3.0103\",\"30.1301\",\n",
    "# \"30.1701\",\"30.1801\",\"38.0101\",\"38.0201\",\"39.0601\",\"40.0202\",\"40.0203\",\"40.0299\",\"40.0501\",\"40.0508\",\n",
    "# \"40.0599\",\"40.0601\",\"40.0801\",\"42.0101\",\"42.2701\",\"42.2704\",\"45.0101\",\"45.0201\",\"45.0301\",\"45.0601\",\n",
    "# \"45.0603\",\"45.1001\",\"45.1101\",\"5.0104\",\"5.0105\",\"5.0108\",\"5.011\",\"5.0112\",\"5.0201\",\"5.0207\",\"5.0208\",\n",
    "# \"5.0209\",\"5.0299\",\"50.0101\",\"50.0501\",\"50.0601\",\"50.0702\",\"50.0703\",\"50.0901\",\"51.221\",\"54.0101\",\n",
    "# \"54.0103\",\"54.0104\",\"54.0199\"],\"name\":\"Harvard University\",\"numFreshmen\"\n",
    "\n",
    "# \"majorsCipCodes\":[\"11.0103\",\"11.0201\",\"11.0701\",\"11.0801\",\"11.1099\",\"11.9999\",\"13.1001\",\"13.1203\",\n",
    "# \"13.121\",\"13.1302\",\"13.1303\",\"13.1305\",\"13.1306\",\"13.1307\",\"13.1308\",\"13.1311\",\"13.1312\",\"13.1314\",\n",
    "# \"13.1316\",\"13.1318\",\"13.1322\",\"13.1325\",\"13.133\",\"14.0701\",\"14.0801\",\"14.1001\",\"14.1801\",\"14.1901\",\n",
    "# \"14.3501\",\"15.0201\",\"15.0303\",\"15.0702\",\"15.0805\",\"15.1201\",\"16.0102\",\"16.0901\",\"16.0902\",\"16.0905\",\n",
    "# \"19.0707\",\"23.0101\",\"23.1302\",\"23.1303\",\"23.1304\",\"24.0101\",\"24.0102\",\"26.0101\",\"26.0202\",\"27.0101\",\n",
    "# \"3.0104\",\"30.1101\",\"31.0501\",\"31.0505\",\"38.0101\",\"38.0201\",\"40.0201\",\"40.0501\",\"40.0601\",\"40.0699\",\n",
    "# \"40.0801\",\"42.0101\",\"43.0104\",\"43.0106\",\"44\",\"44.0701\",\"45.0101\",\"45.0201\",\"45.0601\",\"45.0701\",\"45.0799\",\n",
    "# \"45.0901\",\"45.1001\",\"45.1101\",\"5.0101\",\"5.0102\",\"5.0201\",\"50.0399\",\"50.0501\",\"50.0702\",\"50.0703\",\"50.0901\",\n",
    "# \"50.0902\",\"50.0903\",\"50.0904\",\"50.1001\",\"51\",\"51.0001\",\"51.0602\",\"51.0701\",\"51.0702\",\"51.0899\",\"51.0908\",\n",
    "# \"51.1005\",\"51.1504\",\"51.2201\",\"51.3101\",\"51.3801\",\"51.9999\",\"52.0201\",\"52.0205\",\"52.0301\",\"52.0304\",\"52.0601\",\n",
    "# \"52.0801\",\"52.0901\",\"52.1001\",\"52.1002\",\"52.1101\",\"52.1201\",\"52.1206\",\"52.1302\",\"52.1399\",\"52.1401\",\"52.1403\",\n",
    "# \"52.1902\",\"54.0101\",\"9.0401\",\"9.0701\",\"9.0903\",\"9.0906\"],\"name\":\"Youngstown State University\",\"numFreshmen\"\n",
    "\n",
    "import re\n",
    "\n",
    "# university_list = re.findall(\"\\\"name\\\":\\\"([^\\\"]+)\\\",\\\"numFreshmen\\\"\", f.text)\n",
    "university_list = re.findall(\"\\\"rankings\\\":.+?\\\"bucket\\\":\\\"(\\d*)\\\",\\\"key\\\":\\\"overall\\\".+?\\\"slug\\\":\\\"(.+?)\\\"\", f.text)\n",
    "\n",
    "# \\\"slug\\\":\\\"(.+?)\\\"\n",
    "# print(university_list[0:10])\n",
    "\n",
    "# \"\\\"rankings\\\":.+?\\\"order\\\":(\\d*)(?=.+?\\\"key\\\"=\\\"overall\\\")\\\"slug\\\":\\\"(.+?)\\\"\"\n",
    "\n",
    "\n",
    "# # \\\"majorsCipCodes\\\".+\\\"\n",
    "# # \\\"numFreshmen\\\"\n",
    "\n",
    "# # ([^,\\\"])\n",
    "\n",
    "# # for x in range(len(university_list)):\n",
    "# #     curr = university_list[x]\n",
    "\n",
    "print(university_list[0])\n",
    "\n"
   ]
  },
  {
   "cell_type": "code",
   "execution_count": 24,
   "metadata": {},
   "outputs": [
    {
     "name": "stdout",
     "output_type": "stream",
     "text": [
      "[[287, 'bryant-university'], [289, 'milwaukee-school-of-engineering-msoe']]\n",
      "[[403, 'ohio-wesleyan-university'], [405, 'brigham-young-university-hawaii']]\n",
      "[[647, 'university-of-indianapolis'], [649, 'franklin-college']]\n",
      "[[676, 'st-edward-s-university'], [678, 'high-point-university']]\n",
      "[[799, 'university-of-nebraska-omaha-uno'], [801, 'university-of-toledo']]\n",
      "[[852, 'rocky-mountain-college-rmc'], [854, 'hardin-simmons-university']]\n",
      "[[867, 'johnson-c-smith-university'], [869, 'spring-arbor-university']]\n",
      "[[1053, 'tabor-college'], [1055, 'wells-college']]\n",
      "[[1064, 'hope-international-university'], [1066, 'university-of-northwestern-st-paul']]\n",
      "[[1191, 'concordia-college-new-york'], [1193, 'methodist-university']]\n",
      "[[1264, 'notre-dame-de-namur-university'], [1266, 'felician-university']]\n",
      "[[1349, 'dakota-state-university'], [1351, 'southern-university-at-new-orleans']]\n",
      "1506\n"
     ]
    }
   ],
   "source": [
    "gap = 0\n",
    "\n",
    "for x in range(len(university_list)):\n",
    "    university_list[x] = [int(university_list[x][0]), university_list[x][1]]\n",
    "    if x+1 != int(university_list[x][0]) - gap:\n",
    "        gap += 1\n",
    "        print(university_list[x-1:x+1])\n",
    "\n",
    "print(len(sorted(university_list, key = lambda pair: pair[0])))\n",
    "\n",
    "university_list = sorted(university_list, key = lambda pair: pair[0])\n",
    "\n",
    "top_400 = university_list[0:400]\n",
    "\n",
    "# print(len(university_list))\n",
    "\n",
    "# top_400 = university_list[0:400]\n",
    "\n",
    "# print(top_400)"
   ]
  },
  {
   "cell_type": "code",
   "execution_count": 6,
   "metadata": {},
   "outputs": [
    {
     "name": "stdout",
     "output_type": "stream",
     "text": [
      "['Harvard University']\n"
     ]
    }
   ],
   "source": [
    "testtext = \"\\\"majorsCipCodes\\\":[\\\"11.0701\\\", \\\"11.0701\\\"],\\\"name\\\":\\\"Harvard University\\\",\\\"numFreshmen\\\"\"\n",
    "\n",
    "testlist = re.findall(\"\\\"majorsCipCodes\\\".+\\\"name\\\":\\\"(.*)\\\",\\\"numFreshmen\\\"\", testtext)\n",
    "\n",
    "print(testlist)"
   ]
  },
  {
   "cell_type": "code",
   "execution_count": 25,
   "metadata": {},
   "outputs": [
    {
     "name": "stdout",
     "output_type": "stream",
     "text": [
      "https://www.collegevine.com/schools/stanford-university/essay-prompts\n"
     ]
    }
   ],
   "source": [
    "# get links for all schools\n",
    "\n",
    "college_links = []\n",
    "\n",
    "for school in top_400:\n",
    "    name = school[1]\n",
    "    college_links.append(\"https://www.collegevine.com/schools/\" \n",
    "                            + name.replace(\" \", \"-\") \n",
    "                            +  \"/essay-prompts\")\n",
    "\n",
    "print(college_links[0])"
   ]
  },
  {
   "cell_type": "code",
   "execution_count": 67,
   "metadata": {},
   "outputs": [
    {
     "name": "stdout",
     "output_type": "stream",
     "text": [
      "['Your intellectual life may extend beyond the academic requirements of your particular school. Please use the space below to list additional intellectual activities that you have not mentioned or detailed elsewhere in your application. These could include, but are not limited to, supervised or self-directed projects not done as school work, training experiences, online courses not run by your school, or summer academic or research programs not described elsewhere.', 'Please briefly elaborate on one of your extracurricular activities or work experiences.', 'You may write on a topic of your choice, or you may choose from one of the following topics:', 'Unusual circumstances in your life', 'Travel, living, or working experiences in your own or other communities', 'What you would want your future college roommate to know about you', 'An intellectual experience (course, project, book, discussion, paper, poetry, or research topic in engineering, mathematics, science or other modes of inquiry) that has meant the most to you', 'How you hope to use your college education', 'A list of books you have read during the past twelve months', 'The Harvard College Honor code declares that we \"hold honesty as the foundation of our community.\" As you consider entering this community that is committed to honesty, please reflect on a time when you or someone you observed had to make a choice about whether to act with integrity and honesty. ', 'The mission of Harvard College is to educate our students to be citizens and citizen-leaders for society. What would you do to contribute to the lives of your classmates in advancing this mission? ', 'Each year a substantial number of students admitted to Harvard defer their admission for one year or take time off during college. If you decided in the future to choose either option, what would you like to do? ', 'Harvard has long recognized the importance of student body diversity of all kinds. We welcome you to write about distinctive aspects of your background, personal development or the intellectual interests you might bring to your Harvard classmates. ', 'The essay demonstrates your ability to write clearly and concisely on a selected topic and helps you distinguish yourself in your own voice. What do you want the readers of your application to know about you apart from courses, grades, and test scores? Choose the option that best helps you answer that question and write an essay of no more than 650 words, using the prompt to inspire and structure your response. Remember: 650 words is your limit, not your goal. Use the full range if you need it, but don‘t feel obligated to do so.']\n",
      "4\n",
      "14\n",
      "https://www.collegevine.com/schools/hamilton-college/essay-prompts\n"
     ]
    }
   ],
   "source": [
    "test_link = \"https://www.collegevine.com/schools/harvard-university/essay-prompts\"\n",
    "\n",
    "f = requests.get(test_link)\n",
    "# print(f.text)\n",
    "\n",
    "titles = re.findall(\"<h3 class='mt-2'>(.+?)</h3>\", f.text)\n",
    "prompts = re.findall(\"<p>(.+?)</p>\", f.text)[0:-7]\n",
    "# titles = re.findall(\"<h3 class='mt-2'>(.+?)</h3>[\\S\\s]+?<p>(.+?)</p>\", f.text)[0:-1]\n",
    "print(prompts)\n",
    "\n",
    "if prompts == []:\n",
    "    potential_issues.append(link)\n",
    "\n",
    "if len(titles) != len(prompts)-7:\n",
    "    print(len(titles))\n",
    "    print(len(prompts))\n",
    "    print(link)"
   ]
  },
  {
   "cell_type": "code",
   "execution_count": null,
   "metadata": {},
   "outputs": [],
   "source": [
    "# access links\n",
    "allprompts = []\n",
    "\n",
    "potential_issues = []\n",
    "shift = 0\n",
    "\n",
    "for link in college_links:\n",
    "    f = requests.get(link)\n",
    "\n",
    "    titles = re.findall(\"<h3 class='mt-2'>(.+?)</h3>\", f.text)\n",
    "    prompts = re.findall(\"<p>(.+?)</p>\", f.text)\n",
    "    # print(titles)\n",
    "    if titles[-1] == \"Common App Personal Essay\":\n",
    "        titles = titles[:-1]\n",
    "        prompts = prompts[:-8]\n",
    "    \n",
    "    if \"Select-A-Prompt Short Response\" in titles:\n",
    "        select_prompt_ind = titles.index(\"Select-A-Prompt Short Response\")\n",
    "        del titles[select_prompt_ind]\n",
    "        del prompts[select_prompt_ind]\n",
    "\n",
    "    allprompts.append(prompts)\n",
    "\n",
    "    if prompts == []:\n",
    "        potential_issues.append(link)\n",
    "\n",
    "    if len(titles) != len(prompts):\n",
    "        print(link)\n",
    "\n",
    "print(potential_issues)\n",
    "\n",
    "# print(college_links[333])\n",
    "\n",
    "# temp_f = requests.get(college_links[323])\n",
    "\n",
    "# prompts = re.findall(\"<p>(.+)</p>\", temp_f.text)\n",
    "# print(prompts)\n"
   ]
  },
  {
   "cell_type": "code",
   "execution_count": 88,
   "metadata": {},
   "outputs": [],
   "source": [
    "# access links\n",
    "allprompts = {}\n",
    "\n",
    "potential_issues = []\n",
    "shift = 0\n",
    "\n",
    "for i in range(len(college_links)):\n",
    "    link = college_links[i]\n",
    "    f = requests.get(link)\n",
    "\n",
    "    noprompts = re.search(\"<h2>\", f.text)\n",
    "\n",
    "    if not bool(noprompts):\n",
    "        prompts = re.findall(\"<h3 class='mt-2'>(.+?)</h3>[\\S\\s]+?<p>(.+?)</p>\", f.text)\n",
    "\n",
    "        if prompts == []:\n",
    "            potential_issues.append(link)\n",
    "            continue\n",
    "\n",
    "        if prompts[-1][0] == \"Common App Personal Essay\":\n",
    "            prompts = prompts[:-1]\n",
    "\n",
    "        school_rank = top_400[i][0]\n",
    "        allprompts[school_rank] = prompts"
   ]
  },
  {
   "cell_type": "code",
   "execution_count": 89,
   "metadata": {},
   "outputs": [
    {
     "name": "stdout",
     "output_type": "stream",
     "text": [
      "[]\n"
     ]
    }
   ],
   "source": [
    "len(potential_issues)\n",
    "\n",
    "print(potential_issues)"
   ]
  },
  {
   "cell_type": "code",
   "execution_count": 91,
   "metadata": {},
   "outputs": [
    {
     "name": "stdout",
     "output_type": "stream",
     "text": [
      "[('Why This Major Short Response', 'Considering the specific undergraduate school you have selected, how will you explore your academic and intellectual interests at the University of Pennsylvania?  For students applying to the coordinated dual-degree and specialized programs, please answer these questions in regard to your single-degree school choice; your interest in the coordinated dual-degree or specialized program may be addressed through the program-specific essay.'), ('Why This College Short Response', 'At Penn, learning and growth happen outside of the classrooms, too. How will you explore the community at Penn? Consider how this community will help shape your perspective and identity, and how your identity and perspective will help shape this community.'), ('Huntsman Program Essay', 'The Huntsman Program supports the development of globally-minded scholars who become engaged citizens, creative innovators, and ethical leaders in the public, private, and non-profit sectors in the United States and internationally. What draws you to a dual-degree in business and international studies, and how would you use what you learn to make a contribution to a global issue where business and international affairs intersect?'), ('DMD Program Essay', 'Why are you interested in the Digital Media Design (DMD) program at the University of Pennsylvania?'), ('LSM Program Essay', 'The LSM program aims to provide students with a fundamental understanding of the life sciences and their management with an eye to identifying, advancing and implementing innovations. What issues would you want to address using the understanding gained from such a program? Note that this essay should be distinct from your single degree essay.'), ('M&amp;T Program Essay', 'Explain how you will use the M&amp;T program to explore your interest in business, engineering, and the intersection of the two.'), ('M&amp;T Program Short Response', 'Describe a problem that you solved that showed leadership and creativity.'), ('NETS Program Essay', 'Describe your interests in modern networked information systems and technologies, such as the Internet, and their impact on society, whether in terms of economics, communication, or the creation of beneficial content for society. Feel free to draw on examples from your own experiences as a user, developer, or student of technology.'), (' Nursing and Healthcare Management Essay', \" Discuss your interest in nursing and health care management. How might Penn's coordinated dual-degree program in nursing and business help you meet your goals?\"), ('VIPER Program Essay', 'How do you envision your participation in the Vagelos Integrated Program in Energy Research (VIPER) furthering your interests in energy science and technology? Please include any past experiences (ex. academic, research, or extracurricular) that have led to your interest in the program. Additionally, please indicate why you are interested in pursuing dual degrees in science and engineering and which VIPER majors are most interesting to you at this time.'), ('Bio-dental Program Short Response', 'Please list pre-dental or pre-medical experience. This experience can include but is not limited to observation in a private practice, dental clinic, or hospital setting; dental assisting; dental laboratory work; dental or medical research, etc. Please include time allotted to each activity, dates of attendance, location, and description of your experience. If you do not have any predental or premedical experience, please indicate what you have done that led you to your decision to enter dentistry.'), ('Bio-dental Program Short Response', 'List any activities which demonstrate your ability to work with your hands.'), ('Bio-dental Program Short Response', 'What activities have you performed that demonstrate your ability to work cooperatively with people?'), ('Bio-dental Program Short Response', 'Please explain your reasons for selecting a career in dentistry. Please include what interests you the most in dentistry as well as what interests you the least.'), ('Bio-dental Program Short Response', 'Do you have relatives who are dentists or are in dental school? If so, indicate the name of each relative, his/her relationship to you, the school attended, and the dates attended.')]\n"
     ]
    }
   ],
   "source": [
    "print(allprompts[8])"
   ]
  },
  {
   "cell_type": "code",
   "execution_count": null,
   "metadata": {},
   "outputs": [],
   "source": [
    "# to-do \n",
    "# conda env export > environment.yml\n",
    "# filter out select a prompts\n",
    "# check for weird symbols?\n",
    "# use nltk to process prompts\n",
    "# create list translating between ranking and name, basically watch out for 288 and maybe 404"
   ]
  }
 ],
 "metadata": {
  "interpreter": {
   "hash": "b418b85fe72fd2a9dc7ef40975d81e330596278f99abc6ce3a2e3283e2b5414f"
  },
  "kernelspec": {
   "display_name": "Python 3.9.7 64-bit ('torchenv': conda)",
   "name": "python3"
  },
  "language_info": {
   "codemirror_mode": {
    "name": "ipython",
    "version": 3
   },
   "file_extension": ".py",
   "mimetype": "text/x-python",
   "name": "python",
   "nbconvert_exporter": "python",
   "pygments_lexer": "ipython3",
   "version": "3.9.7"
  },
  "orig_nbformat": 4
 },
 "nbformat": 4,
 "nbformat_minor": 2
}
