{
 "cells": [
  {
   "cell_type": "code",
   "execution_count": 41,
   "metadata": {},
   "outputs": [],
   "source": [
    "from nltk.tokenize import sent_tokenize, word_tokenize\n",
    "from nltk.corpus import stopwords\n",
    "from nltk.stem import WordNetLemmatizer\n",
    "import nltk\n",
    "\n",
    "import numpy as np\n",
    "import torch\n",
    "import matplotlib.pyplot as plt\n",
    "\n",
    "import random\n",
    "\n",
    "# nltk.download('punkt')\n",
    "# nltk.download(\"stopwords\")\n",
    "# nltk.download('averaged_perceptron_tagger')\n",
    "# nltk.download('wordnet')"
   ]
  },
  {
   "cell_type": "code",
   "execution_count": 2,
   "metadata": {},
   "outputs": [
    {
     "name": "stdout",
     "output_type": "stream",
     "text": [
      "1766\n"
     ]
    }
   ],
   "source": [
    "# import requests\n",
    "\n",
    "# link = \"https://www.4icu.org/us/\"\n",
    "# f = requests.get(link)\n",
    "# # print(f.text)\n",
    "\n",
    "# # print(f.text)\n",
    "\n",
    "# import re\n",
    "\n",
    "# university_list = re.findall(\"<td><a href=\\S+>(\\D+)</a>\", f.text)\n",
    "# for x in range(len(university_list)):\n",
    "#     curr = university_list[x]\n",
    "#     if curr.lower() == \"columbia university in the city of new york\":\n",
    "#         university_list[x] = curr[:19] \n",
    "#     if \"&amp\" in curr:\n",
    "#         university_list[x].replace(\"&amp;\", \" \")\n",
    "#         # and_index = curr.index(\"&\")\n",
    "#         # university_list[x] = curr[0:and_index] + \" \" + curr[and_index+5:]\n",
    "#     if \"The\" in curr:\n",
    "#         university_list[x] = curr[3:]\n",
    "#     if \",\" in curr:\n",
    "#         university_list[x].replace(\",\", \"\")\n",
    "\n",
    "# print(len(university_list))\n",
    "\n",
    "# top_400 = university_list[0:400]\n",
    "\n"
   ]
  },
  {
   "cell_type": "code",
   "execution_count": 4,
   "metadata": {},
   "outputs": [
    {
     "name": "stdout",
     "output_type": "stream",
     "text": [
      "('305', 'abilene-christian-university')\n"
     ]
    }
   ],
   "source": [
    "import requests\n",
    "\n",
    "# link = \"https://www.collegevine.com/schools/hub/overall/sheet\"\n",
    "\n",
    "link = \"https://www.collegevine.com/schools/hub/data/static\"\n",
    "\n",
    "# avoid printing f.text; Large file\n",
    "f = requests.get(link)\n",
    "\n",
    "\n",
    "# \"majorsCipCodes\":[\"11.0701\",\"14.0501\",\"14.1001\",\"14.1301\",\"14.1901\",\"16.0102\",\"16.0104\",\"16.0201\",\n",
    "# \"16.0301\",\"16.0302\",\"16.0303\",\"16.04\",\"16.0402\",\"16.0407\",\"16.0408\",\"16.0501\",\"16.0502\",\"16.0506\",\n",
    "# \"16.0599\",\"16.0701\",\"16.09\",\"16.0901\",\"16.0902\",\"16.0904\",\"16.0905\",\"16.1101\",\"16.1102\",\"16.12\",\n",
    "# \"16.1203\",\"16.1299\",\"16.1301\",\"16.1402\",\"16.1501\",\"23.0101\",\"24.0101\",\"24.0103\",\"26.0101\",\"26.0202\",\n",
    "# \"26.0404\",\"26.0406\",\"26.0599\",\"26.1303\",\"26.1503\",\"27.0101\",\"27.0301\",\"27.0501\",\"3.0103\",\"30.1301\",\n",
    "# \"30.1701\",\"30.1801\",\"38.0101\",\"38.0201\",\"39.0601\",\"40.0202\",\"40.0203\",\"40.0299\",\"40.0501\",\"40.0508\",\n",
    "# \"40.0599\",\"40.0601\",\"40.0801\",\"42.0101\",\"42.2701\",\"42.2704\",\"45.0101\",\"45.0201\",\"45.0301\",\"45.0601\",\n",
    "# \"45.0603\",\"45.1001\",\"45.1101\",\"5.0104\",\"5.0105\",\"5.0108\",\"5.011\",\"5.0112\",\"5.0201\",\"5.0207\",\"5.0208\",\n",
    "# \"5.0209\",\"5.0299\",\"50.0101\",\"50.0501\",\"50.0601\",\"50.0702\",\"50.0703\",\"50.0901\",\"51.221\",\"54.0101\",\n",
    "# \"54.0103\",\"54.0104\",\"54.0199\"],\"name\":\"Harvard University\",\"numFreshmen\"\n",
    "\n",
    "# \"majorsCipCodes\":[\"11.0103\",\"11.0201\",\"11.0701\",\"11.0801\",\"11.1099\",\"11.9999\",\"13.1001\",\"13.1203\",\n",
    "# \"13.121\",\"13.1302\",\"13.1303\",\"13.1305\",\"13.1306\",\"13.1307\",\"13.1308\",\"13.1311\",\"13.1312\",\"13.1314\",\n",
    "# \"13.1316\",\"13.1318\",\"13.1322\",\"13.1325\",\"13.133\",\"14.0701\",\"14.0801\",\"14.1001\",\"14.1801\",\"14.1901\",\n",
    "# \"14.3501\",\"15.0201\",\"15.0303\",\"15.0702\",\"15.0805\",\"15.1201\",\"16.0102\",\"16.0901\",\"16.0902\",\"16.0905\",\n",
    "# \"19.0707\",\"23.0101\",\"23.1302\",\"23.1303\",\"23.1304\",\"24.0101\",\"24.0102\",\"26.0101\",\"26.0202\",\"27.0101\",\n",
    "# \"3.0104\",\"30.1101\",\"31.0501\",\"31.0505\",\"38.0101\",\"38.0201\",\"40.0201\",\"40.0501\",\"40.0601\",\"40.0699\",\n",
    "# \"40.0801\",\"42.0101\",\"43.0104\",\"43.0106\",\"44\",\"44.0701\",\"45.0101\",\"45.0201\",\"45.0601\",\"45.0701\",\"45.0799\",\n",
    "# \"45.0901\",\"45.1001\",\"45.1101\",\"5.0101\",\"5.0102\",\"5.0201\",\"50.0399\",\"50.0501\",\"50.0702\",\"50.0703\",\"50.0901\",\n",
    "# \"50.0902\",\"50.0903\",\"50.0904\",\"50.1001\",\"51\",\"51.0001\",\"51.0602\",\"51.0701\",\"51.0702\",\"51.0899\",\"51.0908\",\n",
    "# \"51.1005\",\"51.1504\",\"51.2201\",\"51.3101\",\"51.3801\",\"51.9999\",\"52.0201\",\"52.0205\",\"52.0301\",\"52.0304\",\"52.0601\",\n",
    "# \"52.0801\",\"52.0901\",\"52.1001\",\"52.1002\",\"52.1101\",\"52.1201\",\"52.1206\",\"52.1302\",\"52.1399\",\"52.1401\",\"52.1403\",\n",
    "# \"52.1902\",\"54.0101\",\"9.0401\",\"9.0701\",\"9.0903\",\"9.0906\"],\"name\":\"Youngstown State University\",\"numFreshmen\"\n",
    "\n",
    "import re\n",
    "\n",
    "# university_list = re.findall(\"\\\"name\\\":\\\"([^\\\"]+)\\\",\\\"numFreshmen\\\"\", f.text)\n",
    "university_list = re.findall(\"\\\"rankings\\\":.+?\\\"bucket\\\":\\\"(\\d*)\\\",\\\"key\\\":\\\"overall\\\".+?\\\"slug\\\":\\\"(.+?)\\\"\", f.text)\n",
    "\n",
    "# \\\"slug\\\":\\\"(.+?)\\\"\n",
    "# print(university_list[0:10])\n",
    "\n",
    "# \"\\\"rankings\\\":.+?\\\"order\\\":(\\d*)(?=.+?\\\"key\\\"=\\\"overall\\\")\\\"slug\\\":\\\"(.+?)\\\"\"\n",
    "\n",
    "\n",
    "# # \\\"majorsCipCodes\\\".+\\\"\n",
    "# # \\\"numFreshmen\\\"\n",
    "\n",
    "# # ([^,\\\"])\n",
    "\n",
    "# # for x in range(len(university_list)):\n",
    "# #     curr = university_list[x]\n",
    "\n",
    "print(university_list[0])\n",
    "\n"
   ]
  },
  {
   "cell_type": "code",
   "execution_count": 5,
   "metadata": {},
   "outputs": [
    {
     "name": "stdout",
     "output_type": "stream",
     "text": [
      "[[287, 'bryant-university'], [289, 'milwaukee-school-of-engineering-msoe']]\n",
      "[[403, 'ohio-wesleyan-university'], [405, 'brigham-young-university-hawaii']]\n",
      "[[647, 'university-of-indianapolis'], [649, 'franklin-college']]\n",
      "[[676, 'st-edward-s-university'], [678, 'high-point-university']]\n",
      "[[799, 'university-of-nebraska-omaha-uno'], [801, 'university-of-toledo']]\n",
      "[[852, 'rocky-mountain-college-rmc'], [854, 'hardin-simmons-university']]\n",
      "[[867, 'johnson-c-smith-university'], [869, 'spring-arbor-university']]\n",
      "[[1053, 'tabor-college'], [1055, 'wells-college']]\n",
      "[[1064, 'hope-international-university'], [1066, 'university-of-northwestern-st-paul']]\n",
      "[[1191, 'concordia-college-new-york'], [1193, 'methodist-university']]\n",
      "[[1264, 'notre-dame-de-namur-university'], [1266, 'felician-university']]\n",
      "[[1349, 'dakota-state-university'], [1351, 'southern-university-at-new-orleans']]\n",
      "1506\n"
     ]
    }
   ],
   "source": [
    "university_list = sorted(university_list, key = lambda pair: int(pair[0]))\n",
    "\n",
    "gap = 0\n",
    "\n",
    "for x in range(len(university_list)):\n",
    "    university_list[x] = [int(university_list[x][0]), university_list[x][1]]\n",
    "    if x+1 != int(university_list[x][0]) - gap:\n",
    "        gap += 1\n",
    "        print(university_list[x-1:x+1])\n",
    "\n",
    "print(len(sorted(university_list, key = lambda pair: pair[0])))\n",
    "\n",
    "top_400 = university_list[0:400]\n",
    "\n",
    "# print(len(university_list))\n",
    "\n",
    "# top_400 = university_list[0:400]\n",
    "\n",
    "# print(top_400)"
   ]
  },
  {
   "cell_type": "code",
   "execution_count": 98,
   "metadata": {},
   "outputs": [],
   "source": [
    "def indexToSchool(index):\n",
    "    return top_400[school]"
   ]
  },
  {
   "cell_type": "code",
   "execution_count": 6,
   "metadata": {},
   "outputs": [
    {
     "name": "stdout",
     "output_type": "stream",
     "text": [
      "['Harvard University']\n"
     ]
    }
   ],
   "source": [
    "# testtext = \"\\\"majorsCipCodes\\\":[\\\"11.0701\\\", \\\"11.0701\\\"],\\\"name\\\":\\\"Harvard University\\\",\\\"numFreshmen\\\"\"\n",
    "\n",
    "# testlist = re.findall(\"\\\"majorsCipCodes\\\".+\\\"name\\\":\\\"(.*)\\\",\\\"numFreshmen\\\"\", testtext)\n",
    "\n",
    "# print(testlist)"
   ]
  },
  {
   "cell_type": "code",
   "execution_count": 7,
   "metadata": {},
   "outputs": [
    {
     "name": "stdout",
     "output_type": "stream",
     "text": [
      "https://www.collegevine.com/schools/stanford-university/essay-prompts\n"
     ]
    }
   ],
   "source": [
    "# get links for all schools\n",
    "\n",
    "college_links = []\n",
    "\n",
    "for school in top_400:\n",
    "    name = school[1]\n",
    "    college_links.append(\"https://www.collegevine.com/schools/\" \n",
    "                            + name.replace(\" \", \"-\") \n",
    "                            +  \"/essay-prompts\")\n",
    "\n",
    "print(college_links[0])"
   ]
  },
  {
   "cell_type": "code",
   "execution_count": 9,
   "metadata": {},
   "outputs": [],
   "source": [
    "# test_link = \"https://www.collegevine.com/schools/harvard-university/essay-prompts\"\n",
    "\n",
    "# f = requests.get(test_link)\n",
    "# # print(f.text)\n",
    "\n",
    "# titles = re.findall(\"<h3 class='mt-2'>(.+?)</h3>\", f.text)\n",
    "# prompts = re.findall(\"<p>(.+?)</p>\", f.text)[0:-7]\n",
    "# # titles = re.findall(\"<h3 class='mt-2'>(.+?)</h3>[\\S\\s]+?<p>(.+?)</p>\", f.text)[0:-1]\n",
    "# print(prompts)\n",
    "\n",
    "# select_prompts = re.findall(\"</h5>\\s<p>\\s<p>(.+?)</p>\", f.text)\n",
    "# print(select_prompts)\n",
    "\n",
    "\n",
    "# if prompts == []:\n",
    "#     potential_issues.append(link)\n",
    "\n",
    "# if len(titles) != len(prompts)-7:\n",
    "#     print(len(titles))\n",
    "#     print(len(prompts))\n",
    "#     print(link)"
   ]
  },
  {
   "cell_type": "code",
   "execution_count": 10,
   "metadata": {},
   "outputs": [],
   "source": [
    "# access links\n",
    "# allprompts = []\n",
    "\n",
    "# potential_issues = []\n",
    "# shift = 0\n",
    "\n",
    "# for link in college_links:\n",
    "#     f = requests.get(link)\n",
    "\n",
    "#     titles = re.findall(\"<h3 class='mt-2'>(.+?)</h3>\", f.text)\n",
    "#     prompts = re.findall(\"<p>(.+?)</p>\", f.text)\n",
    "#     # print(titles)\n",
    "#     if titles[-1] == \"Common App Personal Essay\":\n",
    "#         titles = titles[:-1]\n",
    "#         prompts = prompts[:-8]\n",
    "    \n",
    "#     if \"Select-A-Prompt Short Response\" in titles:\n",
    "#         select_prompt_ind = titles.index(\"Select-A-Prompt Short Response\")\n",
    "#         del titles[select_prompt_ind]\n",
    "#         del prompts[select_prompt_ind]\n",
    "\n",
    "#         select_prompts = re.findall(\"<h5>(.+?)</h5>\", f.text)\n",
    "#         for x in select_prompts:\n",
    "#             titles.append(\"Select-A-Prompt\")\n",
    "#             prompts.append(x)\n",
    "\n",
    "\n",
    "\n",
    "#     allprompts.append(prompts)\n",
    "\n",
    "#     if prompts == []:\n",
    "#         potential_issues.append(link)\n",
    "\n",
    "#     if len(titles) != len(prompts):\n",
    "#         print(link)\n",
    "\n",
    "# print(potential_issues)\n",
    "\n",
    "# print(college_links[333])\n",
    "\n",
    "# temp_f = requests.get(college_links[323])\n",
    "\n",
    "# prompts = re.findall(\"<p>(.+)</p>\", temp_f.text)\n",
    "# print(prompts)\n"
   ]
  },
  {
   "cell_type": "code",
   "execution_count": 8,
   "metadata": {},
   "outputs": [],
   "source": [
    "# obtain word bag\n",
    "\n",
    "def get_bag(docs, word_list):\n",
    "    out_list = []\n",
    "\n",
    "    for doc in docs:\n",
    "        stop_words = set(stopwords.words(\"english\") + [\"etc\", \"'s\", \"\"])\n",
    "        filtered_list = []\n",
    "\n",
    "        seperated_words = word_tokenize(doc[1])\n",
    "\n",
    "        for word in seperated_words:\n",
    "            # currently deciding to filter out punctuation\n",
    "            if word[-1] in [\".\", \",\", \";\", \":\", \"?\", \"!\", \"*\", \"’\", \"–\"]:\n",
    "                word = word[:-1]\n",
    "            if word not in stop_words:\n",
    "                # currently ignoring capitalization\n",
    "                filtered_list.append(word.lower())\n",
    "        \n",
    "        # filtered_list = [word for word in doc[1].split() if word not in stop_words]\n",
    "        tagged_list = nltk.pos_tag(filtered_list)\n",
    "        \n",
    "        lemmatizer = WordNetLemmatizer()\n",
    "        lemmatized_list = []\n",
    "\n",
    "        for word in tagged_list:\n",
    "            pos = \"\"\n",
    "            # print(word[1][0])\n",
    "            if word[1][0] == \"J\":\n",
    "                pos = \"a\"\n",
    "            elif word[1][0] == \"N\":\n",
    "                pos = \"n\"\n",
    "            elif word[1][0] == \"V\":\n",
    "                pos = \"v\"\n",
    "            elif word[1][0] == \"R\":\n",
    "                pos = \"r\"\n",
    "            else:\n",
    "                # print(\"uh oh\")\n",
    "                lemmatized_list.append(word[0])\n",
    "                continue\n",
    "            \n",
    "            lemmatized_list.append(lemmatizer.lemmatize(word[0], pos=pos))\n",
    "\n",
    "        word_list += lemmatized_list\n",
    "        out_list.append(lemmatized_list)\n",
    "        \n",
    "    return out_list, word_list"
   ]
  },
  {
   "cell_type": "code",
   "execution_count": 25,
   "metadata": {},
   "outputs": [],
   "source": [
    "# nlp processing\n",
    "\n",
    "# def process(docs, word_dictionary):\n",
    "#     print(\"e\")\n",
    "#     for doc in docs:\n",
    "#         print(doc)\n",
    "#         curr_vector = []\n",
    "#         for word in doc.split():\n",
    "#             if word in word_dictionary.keys():\n",
    "#                 word_dictionary[word] += 1\n",
    "    \n"
   ]
  },
  {
   "cell_type": "code",
   "execution_count": 99,
   "metadata": {},
   "outputs": [],
   "source": [
    "# access links and create general word bag\n",
    "\n",
    "\n",
    "# currently trying to use list instead of dictionary to store prompts and their corresponding index\n",
    "allprompts = []\n",
    "prompt_matrix = []\n",
    "\n",
    "potential_issues = []\n",
    "index = 0\n",
    "prompts = []\n",
    "has_common_app = False\n",
    "word_list = []\n",
    "\n",
    "for link_index in range(len(college_links)):\n",
    "    has_common_app = False\n",
    "    link = college_links[link_index]\n",
    "    f = requests.get(link)\n",
    "\n",
    "    noprompts = re.search(\"<h2>\", f.text)\n",
    "\n",
    "    if not bool(noprompts):\n",
    "        prompts = re.findall(\"<h3 class='mt-2'>(.+?)</h3>[\\S\\s]+?<p>(.+?)</p>\", f.text)\n",
    "        select_prompts = re.findall(\"</h5>\\s<p>\\s<p>(.+?)</p>\", f.text)\n",
    "\n",
    "        if prompts == []:\n",
    "            potential_issues.append(link)\n",
    "            continue\n",
    "\n",
    "        if prompts[-1][0] == \"Common App Personal Essay\":\n",
    "            has_common_app = True\n",
    "            prompts = prompts[:-1]\n",
    "            select_prompts = select_prompts[:-7]\n",
    "\n",
    "        if select_prompts != []:\n",
    "            i = 0\n",
    "            while i < len(prompts):\n",
    "                # print(len(prompts[x]))\n",
    "                if \"Select-A-Prompt\" in prompts[i][0]:\n",
    "                    del prompts[i]\n",
    "                else:\n",
    "                    i += 1\n",
    "\n",
    "            if has_common_app:\n",
    "                for x in select_prompts:\n",
    "                    prompts.append((\"Select-A-Prompt\", x))\n",
    "\n",
    "        # checks again, but now for schools with only common app essay\n",
    "        if prompts == []:\n",
    "            continue\n",
    "        \n",
    "        # prompts is a list of prompts for the current school.\n",
    "        # each prompt is in a tuple with their title first and then the prompt\n",
    "        allprompts.append([link_index, prompts])\n",
    "\n",
    "        prompts, word_list = get_bag(prompts, word_list)\n",
    "        \n",
    "        # school_rank = top_400[link_index][0]\n",
    "        \n",
    "        for j in range(len(prompts)):\n",
    "            prompt_matrix.append([index, j] + prompts[j])\n",
    "        \n",
    "        index += 1\n",
    "\n",
    "        # allprompts.append([[link_index] + prompts[j] for j in range(len(prompts))])"
   ]
  },
  {
   "cell_type": "code",
   "execution_count": 100,
   "metadata": {},
   "outputs": [
    {
     "name": "stdout",
     "output_type": "stream",
     "text": [
      "[0, 5, 'what', 'historical', 'moment', 'event', 'wish', 'could', 'witness']\n"
     ]
    }
   ],
   "source": [
    "print(prompt_matrix[5])"
   ]
  },
  {
   "cell_type": "code",
   "execution_count": 42,
   "metadata": {},
   "outputs": [
    {
     "name": "stdout",
     "output_type": "stream",
     "text": [
      "([['the', 'stanford', 'community', 'deeply', 'curious', 'driven', 'learn', 'classroom', 'reflect', 'idea', 'experience', 'make', 'genuinely', 'excited', 'learning'], ['virtually', 'stanford', 'undergraduate', 'live', 'campus', 'write', 'note', 'future', 'roommate', 'reveals', 'something', 'help', 'roommate', 'us', 'get', 'know', 'good'], ['tell', 'us', 'something', 'meaningful'], ['what', 'significant', 'challenge', 'society', 'face', 'today'], ['how', 'spend', 'last', 'two', 'summer'], ['what', 'historical', 'moment', 'event', 'wish', 'could', 'witness'], ['briefly', 'elaborate', 'one', 'extracurricular', 'activity', 'job', 'hold', 'responsibility', 'family'], ['name', 'one', 'thing', 'look', 'forward', 'experience', 'stanford']], ['the', 'stanford', 'community', 'deeply', 'curious', 'driven', 'learn', 'classroom', 'reflect', 'idea', 'experience', 'make', 'genuinely', 'excited', 'learning', 'virtually', 'stanford', 'undergraduate', 'live', 'campus', 'write', 'note', 'future', 'roommate', 'reveals', 'something', 'help', 'roommate', 'us', 'get', 'know', 'good', 'tell', 'us', 'something', 'meaningful', 'what', 'significant', 'challenge', 'society', 'face', 'today', 'how', 'spend', 'last', 'two', 'summer', 'what', 'historical', 'moment', 'event', 'wish', 'could', 'witness', 'briefly', 'elaborate', 'one', 'extracurricular', 'activity', 'job', 'hold', 'responsibility', 'family', 'name', 'one', 'thing', 'look', 'forward', 'experience', 'stanford'])\n"
     ]
    }
   ],
   "source": [
    "# single case testing\n",
    "\n",
    "has_common_app = False\n",
    "link = \"https://www.collegevine.com/schools/stanford-university/essay-prompts\"\n",
    "f = requests.get(link)\n",
    "\n",
    "noprompts = re.search(\"<h2>\", f.text)\n",
    "allprompts = {}\n",
    "word_list = []\n",
    "\n",
    "for link_index in range(1,2):\n",
    "    if not bool(noprompts):\n",
    "        prompts = re.findall(\"<h3 class='mt-2'>(.+?)</h3>[\\S\\s]+?<p>(.+?)</p>\", f.text)\n",
    "        select_prompts = re.findall(\"</h5>\\s<p>\\s<p>(.+?)</p>\", f.text)\n",
    "\n",
    "        if prompts == []:\n",
    "            potential_issues.append(link)\n",
    "            break\n",
    "\n",
    "        if prompts[-1][0] == \"Common App Personal Essay\":\n",
    "            has_common_app = True\n",
    "            prompts = prompts[:-1]\n",
    "            select_prompts = select_prompts[:-7]\n",
    "\n",
    "        if select_prompts != []:\n",
    "            i = 0\n",
    "            while i < len(prompts):\n",
    "                # print(len(prompts[x]))\n",
    "                if \"Select-A-Prompt\" in prompts[i][0]:\n",
    "                    del prompts[i]\n",
    "                else:\n",
    "                    i += 1\n",
    "\n",
    "            if has_common_app:\n",
    "                for x in select_prompts:\n",
    "                    prompts.append((\"Select-A-Prompt\", x))\n",
    "\n",
    "        word_list = get_bag(prompts, word_list)\n",
    "\n",
    "        school_rank = top_400[link_index][0]\n",
    "        allprompts[school_rank] = prompts\n",
    "\n",
    "\n",
    "print(word_list[0:100])"
   ]
  },
  {
   "cell_type": "code",
   "execution_count": 101,
   "metadata": {},
   "outputs": [
    {
     "name": "stdout",
     "output_type": "stream",
     "text": [
      "[]\n"
     ]
    }
   ],
   "source": [
    "len(potential_issues)\n",
    "\n",
    "print(potential_issues)"
   ]
  },
  {
   "cell_type": "code",
   "execution_count": 102,
   "metadata": {},
   "outputs": [
    {
     "name": "stdout",
     "output_type": "stream",
     "text": [
      "[0, [('Intellectual Passion Short Response', 'The Stanford community is deeply curious and driven to learn in and out of the classroom. Reflect on an idea or experience that makes you genuinely excited about learning.*'), ('Roommate Short Response', \"Virtually all of Stanford's undergraduates live on campus. Write a note to your future roommate that reveals something about you or that will help your roommate – and us – get to know you better.*\"), ('Share Something Meaningful Short Response', 'Tell us about something that is meaningful to you and why.*'), ('Societal Challenge Short Response', 'What is the most significant challenge that society faces today?'), ('Summer Activities Short Response', 'How did you spend your last two summers?'), ('Historical Moment Short Response', 'What historical moment or event do you wish you could have witnessed?'), ('Extracurricular Short Response', 'Briefly elaborate on one of your extracurricular activities, a job you hold, or responsibilities you have for your family.'), ('Stanford Experience Short Response', 'Name one thing you are looking forward to experiencing at Stanford.')]]\n"
     ]
    }
   ],
   "source": [
    "print(allprompts[0])"
   ]
  },
  {
   "cell_type": "code",
   "execution_count": 60,
   "metadata": {},
   "outputs": [
    {
     "name": "stdout",
     "output_type": "stream",
     "text": [
      "12758 2458\n",
      "['the', 'stanford', 'community', 'deeply', 'curious', 'driven', 'learn', 'classroom', 'reflect', 'idea', 'experience', 'make', 'genuinely', 'excited', 'learning', 'virtually', 'stanford', 'undergraduate', 'live', 'campus', 'write', 'note', 'future', 'roommate', 'reveals', 'something', 'help', 'roommate', 'us', 'get', 'know', 'good', 'tell', 'us', 'something', 'meaningful', 'what', 'significant', 'challenge', 'society', 'face', 'today', 'how', 'spend', 'last', 'two', 'summer', 'what', 'historical', 'moment', 'event', 'wish', 'could', 'witness', 'briefly', 'elaborate', 'one', 'extracurricular', 'activity', 'job', 'hold', 'responsibility', 'family', 'name', 'one', 'thing', 'look', 'forward', 'experience', 'stanford', 'your', 'intellectual', 'life', 'may', 'extend', 'beyond', 'academic', 'requirement', 'particular', 'school', 'please', 'use', 'space', 'list', 'additional', 'intellectual', 'activity', 'mention', 'detail', 'elsewhere', 'application', 'these', 'could', 'include', 'limited', 'supervised', 'self-directed', 'project', 'do', 'school']\n"
     ]
    }
   ],
   "source": [
    "print(len(word_list), len(set(word_list)))\n",
    "\n",
    "print(word_list[0:100])"
   ]
  },
  {
   "cell_type": "code",
   "execution_count": 61,
   "metadata": {},
   "outputs": [
    {
     "name": "stdout",
     "output_type": "stream",
     "text": [
      "[386, 'birmingham-southern-college-bsc']\n"
     ]
    }
   ],
   "source": [
    "for i in range(len(top_400)):\n",
    "    if i == 384:\n",
    "        print(top_400[i])"
   ]
  },
  {
   "cell_type": "code",
   "execution_count": 14,
   "metadata": {},
   "outputs": [
    {
     "name": "stdout",
     "output_type": "stream",
     "text": [
      "230\n"
     ]
    }
   ],
   "source": [
    "alltitles = []\n",
    "\n",
    "for link in college_links:\n",
    "    f = requests.get(link)\n",
    "\n",
    "    titles = re.findall(\"<h3 class='mt-2'>(.+?)</h3>\", f.text)\n",
    "    alltitles += titles\n",
    "\n",
    "alltitles = set(alltitles)\n",
    "\n",
    "print(len(alltitles))\n"
   ]
  },
  {
   "cell_type": "code",
   "execution_count": 16,
   "metadata": {},
   "outputs": [
    {
     "name": "stdout",
     "output_type": "stream",
     "text": [
      "['Questions for Us Short Response', 'M&amp;T Program Essay', 'Service-Based Gap Year Short Response', 'Academic Short Response', 'Overcoming Challenges Essay', 'School of Nursing and Health Studies Essay', 'Select-A-Prompt Essay', 'Morrill Scholarship Program Short Response', 'Design BA/BFA Applicants Essay', 'This or That Short Response']\n"
     ]
    }
   ],
   "source": [
    "print(list(alltitles)[0:10])"
   ]
  },
  {
   "cell_type": "code",
   "execution_count": 103,
   "metadata": {},
   "outputs": [],
   "source": [
    "# turn prompts into vectors\n",
    "\n",
    "for prompt_ind in range(len(prompt_matrix)):\n",
    "    curr_freq = dict(zip(word_list, [0 for x in range(len(word_list))]))\n",
    "    for word in prompt_matrix[prompt_ind][2:]:\n",
    "        curr_freq[word] += 1\n",
    "    prompt_matrix[prompt_ind] = prompt_matrix[prompt_ind][0:2] + list(curr_freq.values())"
   ]
  },
  {
   "cell_type": "code",
   "execution_count": null,
   "metadata": {},
   "outputs": [],
   "source": [
    "print(prompt_matrix[0])"
   ]
  },
  {
   "cell_type": "code",
   "execution_count": 105,
   "metadata": {},
   "outputs": [
    {
     "name": "stdout",
     "output_type": "stream",
     "text": [
      "torch.Size([728, 2460])\n"
     ]
    }
   ],
   "source": [
    "# print(allprompts[17])\n",
    "# prompt_matrix = []\n",
    "\n",
    "# for prompt in allprompts:\n",
    "# \n",
    "#     for prompt in prompts:\n",
    "#         prompt_matrix.append(prompt)\n",
    "\n",
    "prompt_tensor = torch.tensor(prompt_matrix, dtype=torch.float32)\n",
    "\n",
    "print(prompt_tensor.shape)\n",
    "\n",
    "torch.manual_seed(333)\n",
    "U, S, V = torch.pca_lowrank(prompt_tensor[:,2:], q=None, center=True, niter=3)\n",
    "\n",
    "pca_axes = torch.matmul(prompt_tensor[:,2:], V[:, :7])"
   ]
  },
  {
   "cell_type": "code",
   "execution_count": 106,
   "metadata": {},
   "outputs": [
    {
     "data": {
      "image/png": "[encoded data removed]",
      "text/plain": [
       "<Figure size 1850x1050 with 16 Axes>"
      ]
     },
     "metadata": {
      "needs_background": "light"
     },
     "output_type": "display_data"
    }
   ],
   "source": [
    "# print(pca_axes[...,0])\n",
    "# print(max(pca_axes[:,0]))\n",
    "\n",
    "\n",
    "# combo plot\n",
    "num_comps = 4\n",
    "\n",
    "fig, axs = plt.subplots(num_comps, num_comps)\n",
    "\n",
    "fig.set_size_inches(18.5, 10.5, forward=True)\n",
    "\n",
    "fig.set_dpi(100)\n",
    "\n",
    "for i in range(0, num_comps):\n",
    "    for j in range(0, num_comps):\n",
    "        axs[i][j].scatter(pca_axes[:,i], pca_axes[:,j])\n",
    "\n",
    "# interesting note: almost all the plots have a central clump and then one or more very pronounced arms\n",
    "# need to consider whether PCA is meaningful for nlp clustering\n",
    "\n",
    "\n",
    "# # single plot\n",
    "\n",
    "# fig = plt.figure(figsize=(20,20))\n",
    "# plt.scatter(pca_axes[:,0], pca_axes[:,1], s=20)\n",
    "\n",
    "# fig.set_dpi(100)"
   ]
  },
  {
   "cell_type": "code",
   "execution_count": 18,
   "metadata": {},
   "outputs": [],
   "source": [
    "# k means clustering from scratch\n",
    "# 2D ONLY\n",
    "\n",
    "# import random\n",
    "\n",
    "# def find_distances(xvals, yvals, centroids):\n",
    "#     clusters = [[] for x in range(len(centroids))]\n",
    "\n",
    "#     for i in range(len(xvals)):\n",
    "#         curr_point = [xvals[i], yvals[i]]\n",
    "\n",
    "#         # should be large enough given that words will rarely \n",
    "#         #   occur more than even 20 times in one prompt\n",
    "#         min_dist = 100000\n",
    "#         min_ind = -1\n",
    "#         for j in range(len(centroids)):\n",
    "#             # print(centroids[j])\n",
    "#             curr_dist = sum(abs(centroids[j] - curr_point)) ** 0.5\n",
    "#             # print(curr_dist)\n",
    "#             if curr_dist < min_dist:\n",
    "#                 min_dist = curr_dist\n",
    "#                 min_ind = j\n",
    "        \n",
    "#         # print(min_ind)\n",
    "#         clusters[min_ind].append(curr_point)\n",
    "\n",
    "#     return clusters\n",
    "\n",
    "\n",
    "# def k_means(xvals, yvals, k):\n",
    "#     centroids = []\n",
    "\n",
    "#     random.seed(333)\n",
    "\n",
    "#     for center_num in range(k):\n",
    "#         index = random.randrange(0, len(xvals))\n",
    "#         coordinate = np.asarray([xvals[index], yvals[index]])\n",
    "#         centroids.append(coordinate)\n",
    "    \n",
    "#     # print(centroids)\n",
    "#     equal_means = 0\n",
    "#     clusters = []\n",
    "\n",
    "#     while equal_means < k:\n",
    "#         clusters = find_distances(xvals, yvals, centroids)\n",
    "#         # print(len(clusters))\n",
    "#         for i in range(k):\n",
    "#             mean = sum(np.asarray(clusters[i])) / len(clusters[i])\n",
    "#             # print(mean)\n",
    "#             if (mean[0] != centroids[i][0]) and (mean[1] != centroids[i][1]):\n",
    "#                 centroids[i] = mean\n",
    "#             else:\n",
    "#                 equal_means += 1\n",
    "    \n",
    "#     return clusters\n"
   ]
  },
  {
   "cell_type": "code",
   "execution_count": 107,
   "metadata": {},
   "outputs": [],
   "source": [
    "# k-means for any dim, points is list of vectors in n-dim\n",
    "\n",
    "def find_distances(points, centroids, labels = []):\n",
    "    clusters = [[] for x in range(len(centroids))]\n",
    "\n",
    "    for curr_point in points:\n",
    "\n",
    "        # should be large enough given that words will rarely \n",
    "        #   occur more than even 20 times in one prompt\n",
    "        min_dist = 100000000\n",
    "        min_ind = len(centroids)\n",
    "        for j in range(len(centroids)):\n",
    "            curr_dist = sum((centroids[j] - curr_point) ** 2) ** 0.5\n",
    "            if curr_dist < min_dist:\n",
    "                min_dist = curr_dist\n",
    "                min_ind = j\n",
    "        \n",
    "        # print(min_ind)\n",
    "        clusters[min_ind].append(curr_point)\n",
    "\n",
    "    return clusters\n",
    "\n",
    "\n",
    "def k_means(points, k):\n",
    "\n",
    "    random.seed(333)\n",
    "    centroids = random.sample(points, k)\n",
    "\n",
    "    for center_num in range(k):\n",
    "        centroids[center_num] = np.asarray(centroids[center_num])\n",
    "    \n",
    "    # print(centroids)\n",
    "    equal_means = 0\n",
    "    clusters = []\n",
    "\n",
    "    while equal_means < k:\n",
    "        clusters = find_distances(points, centroids)\n",
    "        # print(len(clusters))\n",
    "        for i in range(k):\n",
    "            mean = sum(np.asarray(clusters[i])) / len(clusters[i])\n",
    "            # print(mean)\n",
    "            dim = 0\n",
    "            curr_equal_means = True\n",
    "            while (dim < len(points[0])) and curr_equal_means:\n",
    "                if (mean[dim] != centroids[i][dim]):\n",
    "                    centroids[i] = mean\n",
    "                    curr_equal_means = False\n",
    "                dim += 1\n",
    "            \n",
    "            if dim == len(points[0]):\n",
    "                equal_means += 1\n",
    "    \n",
    "    return clusters"
   ]
  },
  {
   "cell_type": "code",
   "execution_count": 108,
   "metadata": {},
   "outputs": [
    {
     "name": "stdout",
     "output_type": "stream",
     "text": [
      "51\n"
     ]
    },
    {
     "data": {
      "text/plain": [
       "<matplotlib.collections.PathCollection at 0x19bfaad7850>"
      ]
     },
     "execution_count": 108,
     "metadata": {},
     "output_type": "execute_result"
    },
    {
     "data": {
      "image/png": "[encoded data removed]",
      "text/plain": [
       "<Figure size 432x288 with 1 Axes>"
      ]
     },
     "metadata": {
      "needs_background": "light"
     },
     "output_type": "display_data"
    }
   ],
   "source": [
    "pca_points = [[pca_axes[:,1][i], pca_axes[:,2][i]] for i in range(len(pca_axes[:,1]))]\n",
    "\n",
    "pca_clusters = k_means(pca_points, 5)\n",
    "\n",
    "print(len(pca_clusters[0]))\n",
    "\n",
    "pca_clusters_graph = []\n",
    "\n",
    "for c in range(len(pca_clusters)):\n",
    "    for x in pca_clusters[c]:\n",
    "        pca_clusters_graph.append(x + [c])\n",
    "\n",
    "pca_clusters_graph = np.asarray(pca_clusters_graph)\n",
    "\n",
    "plt.scatter(pca_clusters_graph[:,0], pca_clusters_graph[:,1], c = pca_clusters_graph[:,2])"
   ]
  },
  {
   "cell_type": "code",
   "execution_count": 121,
   "metadata": {},
   "outputs": [
    {
     "name": "stdout",
     "output_type": "stream",
     "text": [
      "1\n",
      "8\n",
      "17\n",
      "25\n",
      "13\n",
      "33\n",
      "26\n",
      "20\n",
      "19\n",
      "27\n",
      "1\n",
      "10\n",
      "18\n",
      "20\n",
      "15\n",
      "21\n",
      "1\n",
      "1\n",
      "2\n",
      "14\n",
      "19\n",
      "36\n",
      "39\n",
      "7\n",
      "47\n",
      "22\n",
      "13\n",
      "24\n",
      "2\n",
      "10\n",
      "7\n",
      "33\n",
      "4\n",
      "15\n",
      "54\n",
      "19\n",
      "34\n",
      "34\n",
      "16\n",
      "1\n"
     ]
    }
   ],
   "source": [
    "all_clusters = k_means(prompt_matrix, 40)\n",
    "\n",
    "for x in all_clusters:\n",
    "    print(len(x))"
   ]
  },
  {
   "cell_type": "code",
   "execution_count": 123,
   "metadata": {},
   "outputs": [
    {
     "name": "stdout",
     "output_type": "stream",
     "text": [
      "16\n",
      "[2, 'harvard-university'] ('Select-A-Prompt', 'The mission of Harvard College is to educate our students to be citizens and citizen-leaders for society. What would you do to contribute to the lives of your classmates in advancing this mission? ')\n",
      "[2, 'harvard-university'] ('Select-A-Prompt', 'Each year a substantial number of students admitted to Harvard defer their admission for one year or take time off during college. If you decided in the future to choose either option, what would you like to do? ')\n",
      "[2, 'harvard-university'] ('Select-A-Prompt', 'Harvard has long recognized the importance of student body diversity of all kinds. We welcome you to write about distinctive aspects of your background, personal development or the intellectual interests you might bring to your Harvard classmates. ')\n",
      "[4, 'princeton-university'] ('Select-A-Prompt', 'What brings you joy? ')\n",
      "[4, 'princeton-university'] ('Select-A-Prompt', 'What song represents the soundtrack of your life at this moment?')\n",
      "[8, 'university-of-pennsylvania-upenn'] ('M&amp;T Program Short Response', 'Describe a problem that you solved that showed leadership and creativity.')\n",
      "[8, 'university-of-pennsylvania-upenn'] ('NETS Program Essay', 'Describe your interests in modern networked information systems and technologies, such as the Internet, and their impact on society, whether in terms of economics, communication, or the creation of beneficial content for society. Feel free to draw on examples from your own experiences as a user, developer, or student of technology.')\n",
      "[8, 'university-of-pennsylvania-upenn'] (' Nursing and Healthcare Management Essay', \" Discuss your interest in nursing and health care management. How might Penn's coordinated dual-degree program in nursing and business help you meet your goals?\")\n",
      "[8, 'university-of-pennsylvania-upenn'] ('VIPER Program Essay', 'How do you envision your participation in the Vagelos Integrated Program in Energy Research (VIPER) furthering your interests in energy science and technology? Please include any past experiences (ex. academic, research, or extracurricular) that have led to your interest in the program. Additionally, please indicate why you are interested in pursuing dual degrees in science and engineering and which VIPER majors are most interesting to you at this time.')\n",
      "[8, 'university-of-pennsylvania-upenn'] ('Bio-dental Program Short Response', 'Please list pre-dental or pre-medical experience. This experience can include but is not limited to observation in a private practice, dental clinic, or hospital setting; dental assisting; dental laboratory work; dental or medical research, etc. Please include time allotted to each activity, dates of attendance, location, and description of your experience. If you do not have any predental or premedical experience, please indicate what you have done that led you to your decision to enter dentistry.')\n",
      "[8, 'university-of-pennsylvania-upenn'] ('Bio-dental Program Short Response', 'List any activities which demonstrate your ability to work with your hands.')\n",
      "[8, 'university-of-pennsylvania-upenn'] ('Bio-dental Program Short Response', 'What activities have you performed that demonstrate your ability to work cooperatively with people?')\n",
      "[8, 'university-of-pennsylvania-upenn'] ('Bio-dental Program Short Response', 'Please explain your reasons for selecting a career in dentistry. Please include what interests you the most in dentistry as well as what interests you the least.')\n",
      "[8, 'university-of-pennsylvania-upenn'] ('Bio-dental Program Short Response', 'Do you have relatives who are dentists or are in dental school? If so, indicate the name of each relative, his/her relationship to you, the school attended, and the dates attended.')\n",
      "[9, 'brown-university'] ('Select-A-Prompt', 'Health care is constantly changing, as it is affected by racial and social disparities, economics, politics, and technology, among other factors. How will you, as a future physician, make a positive impact? ')\n",
      "[9, 'brown-university'] ('Select-A-Prompt', 'How do you feel your personal background provides you with a unique perspective of medicine?')\n"
     ]
    }
   ],
   "source": [
    "for x in all_clusters[38:39]:\n",
    "    print(len(x))\n",
    "    for i in range(0, len(x), 1):\n",
    "        school_ind = x[i][0]\n",
    "        prompt_ind = x[i][1]\n",
    "        print(top_400[allprompts[school_ind][0]], allprompts[school_ind][1][prompt_ind])\n"
   ]
  },
  {
   "cell_type": "code",
   "execution_count": null,
   "metadata": {},
   "outputs": [],
   "source": [
    "# to-do \n",
    "# [X] conda env export > environment.yml \n",
    "# [?] incorporate select-a-prompts\n",
    "# [?] check for weird symbols, i.e. \"&amp\"\n",
    "# [*] use nltk to process prompts\n",
    "# [] look into tf-idf\n",
    "# [] download matplotlib on school computer\n",
    "# [*] clustering\n",
    "#  - - [x] k-means based on euclidean dist\n",
    "#  - - [] k-means based on cosine similarity?\n",
    "#  - - [] hierarchical\n",
    "# [] commit and push yml file to remote (!!!)\n",
    "# [?] create list translating between ranking and name, basically watch out for 288 and maybe 404\n",
    "#  - - [] use array instead of dictionary for allprompts? if looking for original, just use index..."
   ]
  }
 ],
 "metadata": {
  "interpreter": {
   "hash": "b418b85fe72fd2a9dc7ef40975d81e330596278f99abc6ce3a2e3283e2b5414f"
  },
  "kernelspec": {
   "display_name": "Python 3.9.7 64-bit ('torchenv': conda)",
   "name": "python3"
  },
  "language_info": {
   "codemirror_mode": {
    "name": "ipython",
    "version": 3
   },
   "file_extension": ".py",
   "mimetype": "text/x-python",
   "name": "python",
   "nbconvert_exporter": "python",
   "pygments_lexer": "ipython3",
   "version": "3.9.7"
  },
  "orig_nbformat": 4
 },
 "nbformat": 4,
 "nbformat_minor": 2
}
