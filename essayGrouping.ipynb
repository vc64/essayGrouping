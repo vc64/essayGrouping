{
 "cells": [
  {
   "cell_type": "code",
   "execution_count": 2,
   "metadata": {},
   "outputs": [],
   "source": [
    "from nltk.tokenize import sent_tokenize, word_tokenize\n",
    "\n"
   ]
  },
  {
   "cell_type": "code",
   "execution_count": 54,
   "metadata": {},
   "outputs": [
    {
     "name": "stdout",
     "output_type": "stream",
     "text": [
      "1766\n"
     ]
    }
   ],
   "source": [
    "import requests\n",
    "\n",
    "link = \"https://www.4icu.org/us/\"\n",
    "f = requests.get(link)\n",
    "# print(f.text)\n",
    "\n",
    "# print(f.text)\n",
    "\n",
    "import re\n",
    "\n",
    "university_list = re.findall(\"<td><a href=\\S+>(\\D+)</a>\", f.text)\n",
    "for x in range(len(university_list)):\n",
    "    curr = university_list[x]\n",
    "    if curr.lower() == \"columbia university in the city of new york\":\n",
    "        university_list[x] = curr[:19] \n",
    "    if \"&amp\" in curr:\n",
    "        university_list[x].replace(\"&amp;\", \" \")\n",
    "        # and_index = curr.index(\"&\")\n",
    "        # university_list[x] = curr[0:and_index] + \" \" + curr[and_index+5:]\n",
    "    if \"The\" in curr:\n",
    "        university_list[x] = curr[3:]\n",
    "    if \",\" in curr:\n",
    "        university_list[x].replace(\",\", \"\")\n",
    "\n",
    "print(len(university_list))\n",
    "\n",
    "top_400 = university_list[0:400]\n",
    "\n",
    "# print(top_200)\n"
   ]
  },
  {
   "cell_type": "code",
   "execution_count": null,
   "metadata": {},
   "outputs": [
    {
     "name": "stdout",
     "output_type": "stream",
     "text": [
      "1766\n"
     ]
    }
   ],
   "source": [
    "import requests\n",
    "\n",
    "link = \"https://www.collegevine.com/schools/hub/overall/sheet\"\n",
    "f = requests.get(link)\n",
    "# print(f.text)\n",
    "\n",
    "# <h4 class=\"text-primary mb-0 cursor-pointer\">Stanford University</h4>\n",
    "\n",
    "import re\n",
    "\n",
    "university_list = re.findall(\"<h4 class=\\\"text-primary mb-0 cursor-pointer\\\">(.+)</h4>\", f.text)\n",
    "\n",
    "# for x in range(len(university_list)):\n",
    "#     curr = university_list[x]\n",
    "\n",
    "print(len(university_list))\n",
    "\n",
    "top_400 = university_list[0:400]\n",
    "\n",
    "# print(top_200)\n"
   ]
  },
  {
   "cell_type": "code",
   "execution_count": 11,
   "metadata": {},
   "outputs": [
    {
     "name": "stdout",
     "output_type": "stream",
     "text": [
      "https://www.collegevine.com/schools/massachusetts-institute-of-technology/essay-prompts\n"
     ]
    }
   ],
   "source": [
    "# get links for all schools\n",
    "\n",
    "college_links = []\n",
    "\n",
    "for name in top_400:\n",
    "    name = name.lower()\n",
    "    college_links.append(\"https://www.collegevine.com/schools/\" \n",
    "                            + name.replace(\" \", \"-\") \n",
    "                            +  \"/essay-prompts\")\n",
    "\n",
    "print(college_links[0])"
   ]
  },
  {
   "cell_type": "code",
   "execution_count": 43,
   "metadata": {},
   "outputs": [],
   "source": [
    "# access links\n",
    "\n",
    "potential_issues = []\n",
    "\n",
    "for link in college_links:\n",
    "    temp_f = requests.get(link)\n",
    "    prompts = re.findall(\"<p>(.+)</p>\", temp_f.text)\n",
    "\n",
    "    if prompts == []:\n",
    "        potential_issues.append(link)\n",
    "\n",
    "\n",
    "# print(college_links[333])\n",
    "\n",
    "# temp_f = requests.get(college_links[323])\n",
    "\n",
    "# prompts = re.findall(\"<p>(.+)</p>\", temp_f.text)\n",
    "# print(prompts)\n"
   ]
  },
  {
   "cell_type": "code",
   "execution_count": 45,
   "metadata": {},
   "outputs": [
    {
     "name": "stdout",
     "output_type": "stream",
     "text": [
      "['https://www.collegevine.com/schools/university-of-california,-berkeley/essay-prompts', 'https://www.collegevine.com/schools/columbia-university-in-the-city-of-new-york/essay-prompts', 'https://www.collegevine.com/schools/university-of-california,-los-angeles/essay-prompts', 'https://www.collegevine.com/schools/the-university-of-texas-at-austin/essay-prompts', 'https://www.collegevine.com/schools/penn-state-university/essay-prompts', 'https://www.collegevine.com/schools/michigan-state-university/essay-prompts', 'https://www.collegevine.com/schools/university-of-california,-san-diego/essay-prompts', 'https://www.collegevine.com/schools/university-of-california,-davis/essay-prompts', 'https://www.collegevine.com/schools/university-of-maryland/essay-prompts', 'https://www.collegevine.com/schools/rutgers,-the-state-university-of-new-jersey/essay-prompts', 'https://www.collegevine.com/schools/university-of-california,-irvine/essay-prompts', 'https://www.collegevine.com/schools/the-university-of-arizona/essay-prompts', 'https://www.collegevine.com/schools/texas-a&m-university/essay-prompts', 'https://www.collegevine.com/schools/the-university-of-utah/essay-prompts', 'https://www.collegevine.com/schools/the-ohio-state-university/essay-prompts', 'https://www.collegevine.com/schools/washington-university-in-st.-louis/essay-prompts', 'https://www.collegevine.com/schools/university-of-california,-santa-barbara/essay-prompts', 'https://www.collegevine.com/schools/virginia-polytechnic-institute-and-state-university/essay-prompts', 'https://www.collegevine.com/schools/florida-state-university/essay-prompts', 'https://www.collegevine.com/schools/university-of-california,-riverside/essay-prompts', 'https://www.collegevine.com/schools/william-marsh-rice-university/essay-prompts', 'https://www.collegevine.com/schools/university-at-buffalo,-state-university-of-new-york/essay-prompts', 'https://www.collegevine.com/schools/university-of-california,-santa-cruz/essay-prompts', 'https://www.collegevine.com/schools/university-of-california,-san-francisco/essay-prompts', 'https://www.collegevine.com/schools/the-university-of-tennessee,-knoxville/essay-prompts', 'https://www.collegevine.com/schools/the-university-of-alabama/essay-prompts', 'https://www.collegevine.com/schools/the-university-of-oklahoma/essay-prompts', 'https://www.collegevine.com/schools/the-university-of-tennessee-at-martin/essay-prompts', 'https://www.collegevine.com/schools/university-of-south-carolina/essay-prompts', 'https://www.collegevine.com/schools/california-state-university,-northridge/essay-prompts', 'https://www.collegevine.com/schools/san-jos&eacute;-state-university/essay-prompts', 'https://www.collegevine.com/schools/college-of-william-&-mary/essay-prompts', 'https://www.collegevine.com/schools/stony-brook-university/essay-prompts', 'https://www.collegevine.com/schools/the-university-of-texas-at-dallas/essay-prompts', 'https://www.collegevine.com/schools/the-new-school/essay-prompts', 'https://www.collegevine.com/schools/university-of-maryland,-baltimore-county/essay-prompts', 'https://www.collegevine.com/schools/california-state-university,-long-beach/essay-prompts', 'https://www.collegevine.com/schools/indiana-university---purdue-university-indianapolis/essay-prompts', 'https://www.collegevine.com/schools/university-at-albany,-state-university-of-new-york/essay-prompts', 'https://www.collegevine.com/schools/the-university-of-maine/essay-prompts', 'https://www.collegevine.com/schools/university-of-nevada,-reno/essay-prompts', 'https://www.collegevine.com/schools/loyola-university-chicago/essay-prompts', 'https://www.collegevine.com/schools/california-state-university,-fullerton/essay-prompts', 'https://www.collegevine.com/schools/california-polytechnic-state-university,-san-luis-obispo/essay-prompts', 'https://www.collegevine.com/schools/the-university-of-texas-at-san-antonio/essay-prompts', 'https://www.collegevine.com/schools/binghamton-university,-state-university-of-new-york/essay-prompts', 'https://www.collegevine.com/schools/the-university-of-texas-at-arlington/essay-prompts', 'https://www.collegevine.com/schools/university-of-nevada,-las-vegas/essay-prompts', 'https://www.collegevine.com/schools/the-university-of-texas-md-anderson-cancer-center/essay-prompts', 'https://www.collegevine.com/schools/oregon-health-&-science-university/essay-prompts', 'https://www.collegevine.com/schools/the-university-of-montana/essay-prompts', 'https://www.collegevine.com/schools/berklee-college-of-music/essay-prompts', 'https://www.collegevine.com/schools/the-university-of-memphis/essay-prompts', 'https://www.collegevine.com/schools/university-of-maryland,-baltimore/essay-prompts', 'https://www.collegevine.com/schools/california-state-polytechnic-university,-pomona/essay-prompts', 'https://www.collegevine.com/schools/california-state-university,-sacramento/essay-prompts', 'https://www.collegevine.com/schools/california-state-university,-chico/essay-prompts', 'https://www.collegevine.com/schools/baylor-college-of-medicine/essay-prompts', 'https://www.collegevine.com/schools/calvin-university/essay-prompts', 'https://www.collegevine.com/schools/the-university-of-texas-at-el-paso/essay-prompts', 'https://www.collegevine.com/schools/the-catholic-university-of-america/essay-prompts', 'https://www.collegevine.com/schools/university-of-michigan-dearborn/essay-prompts', 'https://www.collegevine.com/schools/university-of-nebraska-at-omaha/essay-prompts', 'https://www.collegevine.com/schools/brigham-young-university-idaho/essay-prompts', 'https://www.collegevine.com/schools/humboldt-state-university/essay-prompts', 'https://www.collegevine.com/schools/rasmussen-college/essay-prompts', 'https://www.collegevine.com/schools/grand-canyon-university/essay-prompts', 'https://www.collegevine.com/schools/western-kentucky-university/essay-prompts', 'https://www.collegevine.com/schools/university-of-missouri-st.-louis/essay-prompts', 'https://www.collegevine.com/schools/the-university-of-alabama-in-huntsville/essay-prompts', 'https://www.collegevine.com/schools/lehman-college,-cuny/essay-prompts', 'https://www.collegevine.com/schools/medical-university-of-south-carolina/essay-prompts', 'https://www.collegevine.com/schools/california-state-university,-san-bernardino/essay-prompts', 'https://www.collegevine.com/schools/missouri-state-university/essay-prompts', 'https://www.collegevine.com/schools/southern-illinois-university-edwardsville/essay-prompts', 'https://www.collegevine.com/schools/loma-linda-university/essay-prompts', 'https://www.collegevine.com/schools/sonoma-state-university/essay-prompts', 'https://www.collegevine.com/schools/missouri-university-of-science-and-technology/essay-prompts', 'https://www.collegevine.com/schools/towson-university/essay-prompts', 'https://www.collegevine.com/schools/university-of-st.-thomas/essay-prompts', 'https://www.collegevine.com/schools/university-of-texas-southwestern-medical-center/essay-prompts', 'https://www.collegevine.com/schools/university-of-massachusetts-medical-school/essay-prompts', 'https://www.collegevine.com/schools/idaho-state-university/essay-prompts', 'https://www.collegevine.com/schools/eastern-kentucky-university/essay-prompts', 'https://www.collegevine.com/schools/ferris-state-university/essay-prompts', 'https://www.collegevine.com/schools/california-state-university,-fresno/essay-prompts', 'https://www.collegevine.com/schools/university-of-california,-merced/essay-prompts', 'https://www.collegevine.com/schools/university-of-north-carolina-wilmington/essay-prompts', 'https://www.collegevine.com/schools/the-university-of-texas-health-science-center-at-san-antonio/essay-prompts', 'https://www.collegevine.com/schools/university-of-baltimore/essay-prompts', 'https://www.collegevine.com/schools/fashion-institute-of-technology/essay-prompts', 'https://www.collegevine.com/schools/university-of-wisconsin-eau-claire/essay-prompts', 'https://www.collegevine.com/schools/the-evergreen-state-college/essay-prompts', 'https://www.collegevine.com/schools/weber-state-university/essay-prompts', 'https://www.collegevine.com/schools/minnesota-state-university,-mankato/essay-prompts', 'https://www.collegevine.com/schools/western-illinois-university/essay-prompts', 'https://www.collegevine.com/schools/valencia-college/essay-prompts', 'https://www.collegevine.com/schools/the-university-of-texas-health-science-center-at-houston/essay-prompts', 'https://www.collegevine.com/schools/hanover-college/essay-prompts', 'https://www.collegevine.com/schools/school-of-visual-arts/essay-prompts', 'https://www.collegevine.com/schools/university-of-illinois-at-springfield/essay-prompts', 'https://www.collegevine.com/schools/the-rockefeller-university/essay-prompts', 'https://www.collegevine.com/schools/the-university-of-tulsa/essay-prompts', 'https://www.collegevine.com/schools/california-state-university,-los-angeles/essay-prompts', 'https://www.collegevine.com/schools/the-university-of-texas-medical-branch-at-galveston/essay-prompts', 'https://www.collegevine.com/schools/simmons-university/essay-prompts', 'https://www.collegevine.com/schools/devry-university/essay-prompts', 'https://www.collegevine.com/schools/lock-haven-university/essay-prompts', 'https://www.collegevine.com/schools/fairleigh-dickinson-university/essay-prompts', 'https://www.collegevine.com/schools/miami-dade-college/essay-prompts', 'https://www.collegevine.com/schools/university-of-nebraska-medical-center/essay-prompts', 'https://www.collegevine.com/schools/university-of-texas-rio-grande-valley/essay-prompts', 'https://www.collegevine.com/schools/northern-michigan-university/essay-prompts', 'https://www.collegevine.com/schools/california-state-university-san-marcos/essay-prompts', 'https://www.collegevine.com/schools/new-mexico-institute-of-mining-and-technology/essay-prompts', \"https://www.collegevine.com/schools/st.-john's-university/essay-prompts\", 'https://www.collegevine.com/schools/wheaton-college/essay-prompts', 'https://www.collegevine.com/schools/eastern-illinois-university/essay-prompts', 'https://www.collegevine.com/schools/maharishi-international-university/essay-prompts', 'https://www.collegevine.com/schools/utah-valley-university/essay-prompts', 'https://www.collegevine.com/schools/eastern-washington-university/essay-prompts', 'https://www.collegevine.com/schools/california-state-university,-dominguez-hills/essay-prompts', 'https://www.collegevine.com/schools/medical-college-of-wisconsin/essay-prompts', 'https://www.collegevine.com/schools/university-of-wisconsin-green-bay/essay-prompts', 'https://www.collegevine.com/schools/st.-olaf-college/essay-prompts', \"https://www.collegevine.com/schools/college-of-saint-benedict/saint-john's-university/essay-prompts\", 'https://www.collegevine.com/schools/artcenter-college-of-design/essay-prompts', 'https://www.collegevine.com/schools/the-culinary-institute-of-america/essay-prompts', 'https://www.collegevine.com/schools/west-chester-university-of-pennsylvania/essay-prompts', 'https://www.collegevine.com/schools/georgetown-college/essay-prompts', 'https://www.collegevine.com/schools/western-carolina-university/essay-prompts', 'https://www.collegevine.com/schools/state-university-of-new-york-at-oswego/essay-prompts', 'https://www.collegevine.com/schools/university-of-wisconsin-oshkosh/essay-prompts', 'https://www.collegevine.com/schools/california-state-university,-stanislaus/essay-prompts', 'https://www.collegevine.com/schools/university-of-hawaii-west-oahu/essay-prompts']\n"
     ]
    }
   ],
   "source": [
    "len(potential_issues)\n",
    "\n",
    "print(potential_issues)"
   ]
  },
  {
   "cell_type": "code",
   "execution_count": 52,
   "metadata": {},
   "outputs": [
    {
     "name": "stdout",
     "output_type": "stream",
     "text": [
      "Columbia University in the City of New York\n",
      "Washington University in St. Louis\n",
      "The University of Alabama in Huntsville\n"
     ]
    }
   ],
   "source": [
    "for x in top_400:\n",
    "    if \" in \" in x.lower():\n",
    "        print(x)"
   ]
  },
  {
   "cell_type": "code",
   "execution_count": null,
   "metadata": {},
   "outputs": [],
   "source": [
    "# do this\n",
    "# conda env export > environment.yml"
   ]
  }
 ],
 "metadata": {
  "interpreter": {
   "hash": "9d354b31dddb6c50bc47b5d8ccf0c1234b7d40fa92a2d841bc909191595a9489"
  },
  "kernelspec": {
   "display_name": "Python 3.9.7 64-bit ('torchEnv': conda)",
   "language": "python",
   "name": "python3"
  },
  "language_info": {
   "codemirror_mode": {
    "name": "ipython",
    "version": 3
   },
   "file_extension": ".py",
   "mimetype": "text/x-python",
   "name": "python",
   "nbconvert_exporter": "python",
   "pygments_lexer": "ipython3",
   "version": "3.9.7"
  },
  "orig_nbformat": 4
 },
 "nbformat": 4,
 "nbformat_minor": 2
}
